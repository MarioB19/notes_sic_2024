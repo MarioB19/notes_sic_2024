{
 "cells": [
  {
   "cell_type": "markdown",
   "id": "1752d9d1-7c36-4f84-98ba-a797aec0d43b",
   "metadata": {},
   "source": [
    "## 1.2 Numpy Basic"
   ]
  },
  {
   "cell_type": "code",
   "execution_count": 3,
   "id": "38c1accc-f4e7-415f-b0d7-e5e4c521182c",
   "metadata": {},
   "outputs": [],
   "source": [
    "import numpy as np"
   ]
  },
  {
   "cell_type": "code",
   "execution_count": 5,
   "id": "3eeb3ac2-e1c8-4fd9-b8c5-d0c83c9c3eb3",
   "metadata": {},
   "outputs": [
    {
     "data": {
      "text/plain": [
       "'1.26.4'"
      ]
     },
     "execution_count": 5,
     "metadata": {},
     "output_type": "execute_result"
    }
   ],
   "source": [
    "np.__version__"
   ]
  },
  {
   "cell_type": "markdown",
   "id": "0dc6ce45-b4b5-47cd-8c23-174c50eadb43",
   "metadata": {},
   "source": [
    "## Arreglos basicos"
   ]
  },
  {
   "cell_type": "code",
   "execution_count": 8,
   "id": "e2a64d5a-5df4-4667-89e8-55d59d1a3cc9",
   "metadata": {},
   "outputs": [
    {
     "data": {
      "text/plain": [
       "array([1, 2, 3, 4, 5, 6])"
      ]
     },
     "execution_count": 8,
     "metadata": {},
     "output_type": "execute_result"
    }
   ],
   "source": [
    "np.array([1,2,3,4,5,6])"
   ]
  },
  {
   "cell_type": "code",
   "execution_count": 34,
   "id": "51a3e9be-356a-4867-988a-e1f57275e5e9",
   "metadata": {},
   "outputs": [
    {
     "data": {
      "text/plain": [
       "array([1, 2, 3, 4, 5, 6])"
      ]
     },
     "execution_count": 34,
     "metadata": {},
     "output_type": "execute_result"
    }
   ],
   "source": [
    "arr1 = np.array([1,2,3,4,5,6])\n",
    "arr1"
   ]
  },
  {
   "cell_type": "code",
   "execution_count": 36,
   "id": "84397789-5ad1-4cc8-a161-68a47a1cdb4d",
   "metadata": {},
   "outputs": [
    {
     "data": {
      "text/plain": [
       "array([1, 2, 3, 4, 5, 6])"
      ]
     },
     "execution_count": 36,
     "metadata": {},
     "output_type": "execute_result"
    }
   ],
   "source": [
    "arr2 = np.array([1,2,3,4,5,6])\n",
    "arr2"
   ]
  },
  {
   "cell_type": "code",
   "execution_count": 38,
   "id": "33e7e858-0981-4888-beae-e096273db9a7",
   "metadata": {},
   "outputs": [
    {
     "data": {
      "text/plain": [
       "2068402356112"
      ]
     },
     "execution_count": 38,
     "metadata": {},
     "output_type": "execute_result"
    }
   ],
   "source": [
    "id(arr1)"
   ]
  },
  {
   "cell_type": "code",
   "execution_count": 40,
   "id": "a896b6ce-cd20-4a84-aa04-4bef4ef35fd8",
   "metadata": {},
   "outputs": [
    {
     "data": {
      "text/plain": [
       "2068402355728"
      ]
     },
     "execution_count": 40,
     "metadata": {},
     "output_type": "execute_result"
    }
   ],
   "source": [
    "id(arr2)"
   ]
  },
  {
   "cell_type": "code",
   "execution_count": 24,
   "id": "6f49e76a-fc4a-40a7-9472-6770b4d6060b",
   "metadata": {},
   "outputs": [
    {
     "data": {
      "text/plain": [
       "2068117866224"
      ]
     },
     "execution_count": 24,
     "metadata": {},
     "output_type": "execute_result"
    }
   ],
   "source": [
    "arr1 = arr2  # Esto no es recomendable\n",
    "id(arr1)"
   ]
  },
  {
   "cell_type": "code",
   "execution_count": 42,
   "id": "02921d0f-fa26-4aee-85cc-8906a86c40b6",
   "metadata": {},
   "outputs": [
    {
     "data": {
      "text/plain": [
       "2068081057520"
      ]
     },
     "execution_count": 42,
     "metadata": {},
     "output_type": "execute_result"
    }
   ],
   "source": [
    "arr1 = np.copy(arr2)\n",
    "id(arr1)   # ya se asigna en otro espacio de memoria, pero con los mismos elementos"
   ]
  },
  {
   "cell_type": "code",
   "execution_count": 46,
   "id": "2ad94b0a-b5d1-4021-a02a-76acd8795363",
   "metadata": {},
   "outputs": [
    {
     "name": "stdout",
     "output_type": "stream",
     "text": [
      "[1 2 3 4 5 6]\n",
      "[1 2 3 4 5 6]\n"
     ]
    }
   ],
   "source": [
    "print(arr1)\n",
    "print(arr2)"
   ]
  },
  {
   "cell_type": "code",
   "execution_count": 48,
   "id": "c8c5259b-176d-48f4-b659-e4eee8139c62",
   "metadata": {},
   "outputs": [
    {
     "data": {
      "text/plain": [
       "tuple"
      ]
     },
     "execution_count": 48,
     "metadata": {},
     "output_type": "execute_result"
    }
   ],
   "source": [
    "type((1,2,3,4,5))"
   ]
  },
  {
   "cell_type": "code",
   "execution_count": 52,
   "id": "63b28c2d-2aa2-4744-9000-ffe3d5a2e404",
   "metadata": {},
   "outputs": [
    {
     "data": {
      "text/plain": [
       "numpy.ndarray"
      ]
     },
     "execution_count": 52,
     "metadata": {},
     "output_type": "execute_result"
    }
   ],
   "source": [
    "type(np.array([1,2,3,4,5]))"
   ]
  },
  {
   "cell_type": "code",
   "execution_count": 56,
   "id": "db30ec08-5597-4b39-9e2c-403cd9cc9c58",
   "metadata": {},
   "outputs": [
    {
     "data": {
      "text/plain": [
       "dict"
      ]
     },
     "execution_count": 56,
     "metadata": {},
     "output_type": "execute_result"
    }
   ],
   "source": [
    "type({'one': 1, 'two':2, 'three':3})"
   ]
  },
  {
   "cell_type": "code",
   "execution_count": 58,
   "id": "c7922ce2-4e2f-4b31-a3ff-0189d8c0f1e7",
   "metadata": {},
   "outputs": [
    {
     "data": {
      "text/plain": [
       "array({'one': 1, 'two': 2, 'three': 3}, dtype=object)"
      ]
     },
     "execution_count": 58,
     "metadata": {},
     "output_type": "execute_result"
    }
   ],
   "source": [
    "np.array({'one': 1, 'two':2, 'three':3})"
   ]
  },
  {
   "cell_type": "code",
   "execution_count": 60,
   "id": "47649f8a-e2e8-487a-9864-2eac64a7b933",
   "metadata": {},
   "outputs": [
    {
     "data": {
      "text/plain": [
       "{1, 2, 3, 4, 5}"
      ]
     },
     "execution_count": 60,
     "metadata": {},
     "output_type": "execute_result"
    }
   ],
   "source": [
    "{1,2,2,2,2,2,2,3,4,5}"
   ]
  },
  {
   "cell_type": "code",
   "execution_count": 62,
   "id": "afb145c0-4bc7-4ffc-b3a1-06c22cec4569",
   "metadata": {},
   "outputs": [
    {
     "data": {
      "text/plain": [
       "set"
      ]
     },
     "execution_count": 62,
     "metadata": {},
     "output_type": "execute_result"
    }
   ],
   "source": [
    "type({1,2,2,2,2,2,2,3,4,5})"
   ]
  },
  {
   "cell_type": "code",
   "execution_count": 64,
   "id": "f494b3f7-5163-4ebb-ad8e-7ccf8a5f57d7",
   "metadata": {},
   "outputs": [
    {
     "data": {
      "text/plain": [
       "array({1, 2, 3, 4, 5}, dtype=object)"
      ]
     },
     "execution_count": 64,
     "metadata": {},
     "output_type": "execute_result"
    }
   ],
   "source": [
    "np.array({1,2,2,2,2,2,2,3,4,5})"
   ]
  },
  {
   "cell_type": "code",
   "execution_count": 66,
   "id": "36065db1-d51e-4a1f-9f8f-b6f65420735a",
   "metadata": {},
   "outputs": [
    {
     "data": {
      "text/plain": [
       "array([0, 1, 2, 3, 4, 5, 6, 7, 8, 9])"
      ]
     },
     "execution_count": 66,
     "metadata": {},
     "output_type": "execute_result"
    }
   ],
   "source": [
    "np.arange(10)"
   ]
  },
  {
   "cell_type": "code",
   "execution_count": 78,
   "id": "22d75c6d-0873-467e-be13-d9b12ab2f437",
   "metadata": {},
   "outputs": [
    {
     "data": {
      "text/plain": [
       "array([3, 8])"
      ]
     },
     "execution_count": 78,
     "metadata": {},
     "output_type": "execute_result"
    }
   ],
   "source": [
    "np.arange(3,10,5) # es como un for"
   ]
  },
  {
   "cell_type": "code",
   "execution_count": 80,
   "id": "20621d56-8062-4d66-9729-5c7453f62bba",
   "metadata": {},
   "outputs": [
    {
     "data": {
      "text/plain": [
       "array([0, 1, 2, 3, 4, 5, 6, 7, 8, 9])"
      ]
     },
     "execution_count": 80,
     "metadata": {},
     "output_type": "execute_result"
    }
   ],
   "source": [
    "a = np.arange(10)\n",
    "a"
   ]
  },
  {
   "cell_type": "code",
   "execution_count": 86,
   "id": "20102f94-9a60-485a-9079-d72bae71d12f",
   "metadata": {},
   "outputs": [
    {
     "data": {
      "text/plain": [
       "10"
      ]
     },
     "execution_count": 86,
     "metadata": {},
     "output_type": "execute_result"
    }
   ],
   "source": [
    "len(a)"
   ]
  },
  {
   "cell_type": "code",
   "execution_count": 88,
   "id": "8a877e31-eb33-4cca-98f8-4895d3c3f44f",
   "metadata": {},
   "outputs": [
    {
     "data": {
      "text/plain": [
       "10"
      ]
     },
     "execution_count": 88,
     "metadata": {},
     "output_type": "execute_result"
    }
   ],
   "source": [
    "a.size"
   ]
  },
  {
   "cell_type": "code",
   "execution_count": 92,
   "id": "e62eb7b6-1b27-4446-b6da-3a294494935b",
   "metadata": {},
   "outputs": [
    {
     "data": {
      "text/plain": [
       "array(['11', '1.3', 'hola'], dtype='<U32')"
      ]
     },
     "execution_count": 92,
     "metadata": {},
     "output_type": "execute_result"
    }
   ],
   "source": [
    "np.array([11,1.3, True])"
   ]
  },
  {
   "cell_type": "code",
   "execution_count": 96,
   "id": "fececd22-41a1-4aa7-91e8-24fb2e499f3f",
   "metadata": {},
   "outputs": [
    {
     "data": {
      "text/plain": [
       "numpy.float64"
      ]
     },
     "execution_count": 96,
     "metadata": {},
     "output_type": "execute_result"
    }
   ],
   "source": [
    "arr5 = np.array([11,1.3, True])  # lo transforma como en js XD\n",
    "type(arr5[1])"
   ]
  },
  {
   "cell_type": "code",
   "execution_count": 100,
   "id": "83088464-0be0-48e1-b116-72f1496c5f92",
   "metadata": {},
   "outputs": [
    {
     "data": {
      "text/plain": [
       "numpy.str_"
      ]
     },
     "execution_count": 100,
     "metadata": {},
     "output_type": "execute_result"
    }
   ],
   "source": [
    "arr6 = np.array([11,1.3, 'XD']) \n",
    "type(arr6[2])"
   ]
  },
  {
   "cell_type": "code",
   "execution_count": 109,
   "id": "bc6f2097-bbf7-4834-a894-a69e35c4b134",
   "metadata": {},
   "outputs": [
    {
     "data": {
      "text/plain": [
       "array(['apple', 'banana', 'strawberryy'], dtype='<U11')"
      ]
     },
     "execution_count": 109,
     "metadata": {},
     "output_type": "execute_result"
    }
   ],
   "source": [
    "np.array([\"apple\", \"banana\", \"strawberryy\"])"
   ]
  },
  {
   "cell_type": "code",
   "execution_count": 127,
   "id": "e234dd70-50d3-455e-a836-410c6b887d26",
   "metadata": {},
   "outputs": [
    {
     "name": "stdout",
     "output_type": "stream",
     "text": [
      "[1 6]\n",
      "[ 1.  2.  3.  4.  5.  6.  7.  8.  9. 10.]\n"
     ]
    }
   ],
   "source": [
    "print(np.arange(1,10,5))\n",
    "print(np.linspace(1,10,10)) #Numero de datos que quiero. (Se utiliza mucho para graficar datos)"
   ]
  },
  {
   "cell_type": "code",
   "execution_count": 129,
   "id": "77ed806b-fa64-48a5-9d3a-fb7fb7a757aa",
   "metadata": {},
   "outputs": [
    {
     "data": {
      "text/plain": [
       "array([-10.        ,  -8.94736842,  -7.89473684,  -6.84210526,\n",
       "        -5.78947368,  -4.73684211,  -3.68421053,  -2.63157895,\n",
       "        -1.57894737,  -0.52631579,   0.52631579,   1.57894737,\n",
       "         2.63157895,   3.68421053,   4.73684211,   5.78947368,\n",
       "         6.84210526,   7.89473684,   8.94736842,  10.        ])"
      ]
     },
     "execution_count": 129,
     "metadata": {},
     "output_type": "execute_result"
    }
   ],
   "source": [
    "np.linspace(-10,10,20)"
   ]
  },
  {
   "cell_type": "code",
   "execution_count": 131,
   "id": "38a2004d-ff23-4290-adf3-b2f811f28ca5",
   "metadata": {},
   "outputs": [
    {
     "data": {
      "text/plain": [
       "array([[0, 0, 0],\n",
       "       [0, 0, 0],\n",
       "       [0, 0, 0]])"
      ]
     },
     "execution_count": 131,
     "metadata": {},
     "output_type": "execute_result"
    }
   ],
   "source": [
    "np.array([[0,0,0], [0,0,0], [0,0,0]])"
   ]
  },
  {
   "cell_type": "code",
   "execution_count": 133,
   "id": "801fe9e6-3874-489b-8132-72ae5edb7fb4",
   "metadata": {},
   "outputs": [
    {
     "data": {
      "text/plain": [
       "array([[0., 0., 0.],\n",
       "       [0., 0., 0.],\n",
       "       [0., 0., 0.]])"
      ]
     },
     "execution_count": 133,
     "metadata": {},
     "output_type": "execute_result"
    }
   ],
   "source": [
    "np.zeros((3,3))"
   ]
  },
  {
   "cell_type": "code",
   "execution_count": 148,
   "id": "a9c98338-8389-4eaf-9ffe-0ba926a2b19a",
   "metadata": {},
   "outputs": [
    {
     "data": {
      "text/plain": [
       "numpy.int32"
      ]
     },
     "execution_count": 148,
     "metadata": {},
     "output_type": "execute_result"
    }
   ],
   "source": [
    "a = np.ones((3,3), dtype = \"int\") # se puede agregar como tercer argumento el tipo.\n",
    "type(a[0,0])"
   ]
  },
  {
   "cell_type": "code",
   "execution_count": 141,
   "id": "b0f41a33-f05d-4738-90a4-49115fbeccb4",
   "metadata": {},
   "outputs": [
    {
     "name": "stdout",
     "output_type": "stream",
     "text": [
      "[1. 1. 1.]\n",
      "[0. 0. 0.]\n"
     ]
    }
   ],
   "source": [
    "print(np.ones(3))\n",
    "print(np.zeros(3))"
   ]
  },
  {
   "cell_type": "markdown",
   "id": "52779828-7141-4373-88c4-e1d89de65716",
   "metadata": {},
   "source": [
    "# Arreglos multidimensionales"
   ]
  },
  {
   "cell_type": "code",
   "execution_count": 150,
   "id": "d58c9916-4461-4d23-8ace-8961b9147f37",
   "metadata": {},
   "outputs": [
    {
     "data": {
      "text/plain": [
       "[1, 2, 3]"
      ]
     },
     "execution_count": 150,
     "metadata": {},
     "output_type": "execute_result"
    }
   ],
   "source": [
    "lis1 = [[1,2,3], [4,5,6],[7,8,9]]\n",
    "lis1[0]"
   ]
  },
  {
   "cell_type": "code",
   "execution_count": 152,
   "id": "503f4024-a0e4-4dba-92ed-9f27682bfdde",
   "metadata": {},
   "outputs": [
    {
     "data": {
      "text/plain": [
       "array([[1, 2, 3],\n",
       "       [4, 5, 6],\n",
       "       [7, 8, 9]])"
      ]
     },
     "execution_count": 152,
     "metadata": {},
     "output_type": "execute_result"
    }
   ],
   "source": [
    "np.array(lis1)"
   ]
  },
  {
   "cell_type": "code",
   "execution_count": 156,
   "id": "86639d86-7328-4d9b-a4dc-32d21f44260d",
   "metadata": {},
   "outputs": [
    {
     "data": {
      "text/plain": [
       "array([[1, 2, 3],\n",
       "       [4, 5, 6],\n",
       "       [7, 8, 9]])"
      ]
     },
     "execution_count": 156,
     "metadata": {},
     "output_type": "execute_result"
    }
   ],
   "source": [
    "arr2d = np.array(lis1)\n",
    "arr2d"
   ]
  },
  {
   "cell_type": "markdown",
   "id": "4dac2598-0f6c-45af-ade2-7facd2c82f6b",
   "metadata": {},
   "source": [
    "## Informacion valiosa de nuestros arreglos"
   ]
  },
  {
   "cell_type": "code",
   "execution_count": 159,
   "id": "34fe811e-db91-4484-b3e8-556c72f03b19",
   "metadata": {},
   "outputs": [
    {
     "name": "stdout",
     "output_type": "stream",
     "text": [
      "(3, 3)\n",
      "6\n",
      "1\n"
     ]
    }
   ],
   "source": [
    "print(arr2d.shape)\n",
    "print(arr2.size)\n",
    "print(arr2.ndim)"
   ]
  },
  {
   "cell_type": "code",
   "execution_count": 167,
   "id": "0e1aff33-bf7d-4bea-8722-2053871440b9",
   "metadata": {},
   "outputs": [
    {
     "data": {
      "text/plain": [
       "3"
      ]
     },
     "execution_count": 167,
     "metadata": {},
     "output_type": "execute_result"
    }
   ],
   "source": [
    "arr3d = np.array([[[1,2,3],[4,5,6]], [[5,6,7],[8,9,10]]])\n",
    "arr3d.ndim"
   ]
  },
  {
   "cell_type": "code",
   "execution_count": 171,
   "id": "87bf6fcf-388c-4b62-80e1-1b4486c75449",
   "metadata": {},
   "outputs": [
    {
     "name": "stdout",
     "output_type": "stream",
     "text": [
      "10\n",
      "6\n"
     ]
    }
   ],
   "source": [
    "print(arr3d[1,1,2]) # Metodologia Numpy\n",
    "print(arr3d[0][1][2]) #Metodologia de listas"
   ]
  },
  {
   "cell_type": "code",
   "execution_count": 173,
   "id": "d925dcb4-8b25-46f9-9c9c-e7c860351d5f",
   "metadata": {},
   "outputs": [
    {
     "data": {
      "text/plain": [
       "array([[0, 0, 0],\n",
       "       [0, 0, 0],\n",
       "       [0, 0, 0]], dtype=int64)"
      ]
     },
     "execution_count": 173,
     "metadata": {},
     "output_type": "execute_result"
    }
   ],
   "source": [
    "arrZeros = np.zeros((3,3), dtype = \"int64\")\n",
    "arrZeros"
   ]
  },
  {
   "cell_type": "code",
   "execution_count": 175,
   "id": "c707d6a9-c952-48e5-80b5-c96ac41d286f",
   "metadata": {},
   "outputs": [
    {
     "data": {
      "text/plain": [
       "array([[0., 0., 0.],\n",
       "       [0., 0., 0.],\n",
       "       [0., 0., 0.]], dtype=float32)"
      ]
     },
     "execution_count": 175,
     "metadata": {},
     "output_type": "execute_result"
    }
   ],
   "source": [
    "arrZeros.astype(\"float32\")"
   ]
  },
  {
   "cell_type": "markdown",
   "id": "9e4bc848-5cd5-426f-a935-9069a8525de7",
   "metadata": {},
   "source": [
    "## Cambios de arreglo a matriz"
   ]
  },
  {
   "cell_type": "code",
   "execution_count": 178,
   "id": "21de9c34-93e1-4546-803b-71661818de97",
   "metadata": {},
   "outputs": [
    {
     "data": {
      "text/plain": [
       "array([ 0,  1,  2,  3,  4,  5,  6,  7,  8,  9, 10, 11, 12, 13, 14])"
      ]
     },
     "execution_count": 178,
     "metadata": {},
     "output_type": "execute_result"
    }
   ],
   "source": [
    "a2 = np.arange(15)\n",
    "a2"
   ]
  },
  {
   "cell_type": "code",
   "execution_count": 186,
   "id": "ef4690d3-a4b8-40f6-9f9b-64f1f60e6767",
   "metadata": {},
   "outputs": [
    {
     "data": {
      "text/plain": [
       "array([[ 0],\n",
       "       [ 1],\n",
       "       [ 2],\n",
       "       [ 3],\n",
       "       [ 4],\n",
       "       [ 5],\n",
       "       [ 6],\n",
       "       [ 7],\n",
       "       [ 8],\n",
       "       [ 9],\n",
       "       [10],\n",
       "       [11],\n",
       "       [12],\n",
       "       [13],\n",
       "       [14]])"
      ]
     },
     "execution_count": 186,
     "metadata": {},
     "output_type": "execute_result"
    }
   ],
   "source": [
    "a2.reshape(15,1)"
   ]
  },
  {
   "cell_type": "code",
   "execution_count": 188,
   "id": "5f1131dd-f068-49c0-ae3d-fcd8f27c0ae5",
   "metadata": {},
   "outputs": [
    {
     "data": {
      "text/plain": [
       "array([ 0,  1,  2,  3,  4,  5,  6,  7,  8,  9, 10, 11, 12, 13, 14])"
      ]
     },
     "execution_count": 188,
     "metadata": {},
     "output_type": "execute_result"
    }
   ],
   "source": [
    "a3 = np.arange(15)\n",
    "a3"
   ]
  },
  {
   "cell_type": "code",
   "execution_count": 190,
   "id": "e5df24b4-6831-41cd-9b1e-d465da106d85",
   "metadata": {},
   "outputs": [
    {
     "data": {
      "text/plain": [
       "array([[ 0],\n",
       "       [ 1],\n",
       "       [ 2],\n",
       "       [ 3],\n",
       "       [ 4],\n",
       "       [ 5],\n",
       "       [ 6],\n",
       "       [ 7],\n",
       "       [ 8],\n",
       "       [ 9],\n",
       "       [10],\n",
       "       [11],\n",
       "       [12],\n",
       "       [13],\n",
       "       [14]])"
      ]
     },
     "execution_count": 190,
     "metadata": {},
     "output_type": "execute_result"
    }
   ],
   "source": [
    "a3.shape = (15,1)\n",
    "a3"
   ]
  },
  {
   "cell_type": "markdown",
   "id": "acb81fad-b152-4cb5-a578-f81f06ce2282",
   "metadata": {},
   "source": [
    "# Numeros aleatorios en Numpy"
   ]
  },
  {
   "cell_type": "code",
   "execution_count": 193,
   "id": "191dc750-a9c8-486d-8d7b-ed84b902e326",
   "metadata": {},
   "outputs": [
    {
     "data": {
      "text/plain": [
       "array([[ 0.38229727, -0.4069245 , -0.78335599],\n",
       "       [-0.31588424,  0.40509468,  1.0814645 ]])"
      ]
     },
     "execution_count": 193,
     "metadata": {},
     "output_type": "execute_result"
    }
   ],
   "source": [
    "data = np.random.randn(2,3)\n",
    "data"
   ]
  },
  {
   "cell_type": "code",
   "execution_count": 198,
   "id": "40be48f9-ecfa-4be7-93c7-538737756a5e",
   "metadata": {},
   "outputs": [
    {
     "data": {
      "text/plain": [
       "0.06044862121491895"
      ]
     },
     "execution_count": 198,
     "metadata": {},
     "output_type": "execute_result"
    }
   ],
   "source": [
    "np.mean(data)"
   ]
  },
  {
   "cell_type": "code",
   "execution_count": 218,
   "id": "140773ec-4f47-456c-add4-909b9612d693",
   "metadata": {},
   "outputs": [
    {
     "data": {
      "text/plain": [
       "0.010806300296435794"
      ]
     },
     "execution_count": 218,
     "metadata": {},
     "output_type": "execute_result"
    }
   ],
   "source": [
    "#np.random.seed(42) Podemos definir una seed para que siempre nos de el mismo\n",
    "data2 = np.random.randn(100,100)\n",
    "np.mean(data2)"
   ]
  },
  {
   "cell_type": "markdown",
   "id": "feb98918-e627-4519-85a3-cf9c27049ce1",
   "metadata": {},
   "source": [
    "# Comparacion entre rendimiento usando Numpy y usando Listas"
   ]
  },
  {
   "cell_type": "code",
   "execution_count": 221,
   "id": "b4f2cc05-7374-46b4-b5e0-56913ee3c90a",
   "metadata": {},
   "outputs": [
    {
     "name": "stdout",
     "output_type": "stream",
     "text": [
      "CPU times: total: 3.42 s\n",
      "Wall time: 3.61 s\n"
     ]
    }
   ],
   "source": [
    "%time for i in range(1000): np.arange(1000000)*2"
   ]
  },
  {
   "cell_type": "code",
   "execution_count": 223,
   "id": "ee171b16-6841-41d1-b8a4-15fa5269c6cf",
   "metadata": {},
   "outputs": [
    {
     "name": "stdout",
     "output_type": "stream",
     "text": [
      "CPU times: total: 51 s\n",
      "Wall time: 52.3 s\n"
     ]
    }
   ],
   "source": [
    "%time for i in range(1000): list(range(1000000))*2"
   ]
  },
  {
   "cell_type": "markdown",
   "id": "8a4ae2c9-dd5e-488c-b481-62d0502788d2",
   "metadata": {},
   "source": [
    "# Anadiendo elementos a arreglos de Numpy"
   ]
  },
  {
   "cell_type": "code",
   "execution_count": 228,
   "id": "f8139ff9-a5a8-4113-990b-f3d048f3b003",
   "metadata": {},
   "outputs": [],
   "source": [
    "a = np.array([1,2,3])\n",
    "b = np.append(a, [4,5,6])"
   ]
  },
  {
   "cell_type": "code",
   "execution_count": 230,
   "id": "e3284799-6006-4578-a52f-6fd1abf0cfcb",
   "metadata": {},
   "outputs": [
    {
     "data": {
      "text/plain": [
       "array([1, 2, 3, 4, 5, 6])"
      ]
     },
     "execution_count": 230,
     "metadata": {},
     "output_type": "execute_result"
    }
   ],
   "source": [
    "b"
   ]
  },
  {
   "cell_type": "code",
   "execution_count": 232,
   "id": "cc3b2c48-0fdf-4cc8-a55c-6b313e23aaa0",
   "metadata": {},
   "outputs": [
    {
     "data": {
      "text/plain": [
       "array([[1, 2],\n",
       "       [3, 4]])"
      ]
     },
     "execution_count": 232,
     "metadata": {},
     "output_type": "execute_result"
    }
   ],
   "source": [
    "a = np.array([[1,2], [3,4]])\n",
    "a"
   ]
  },
  {
   "cell_type": "code",
   "execution_count": 236,
   "id": "93e1bcd8-28f8-4777-9b04-6b11ac702575",
   "metadata": {},
   "outputs": [
    {
     "data": {
      "text/plain": [
       "array([[9, 9],\n",
       "       [1, 2],\n",
       "       [3, 4]])"
      ]
     },
     "execution_count": 236,
     "metadata": {},
     "output_type": "execute_result"
    }
   ],
   "source": [
    "b = np.append([[9,9]], a, axis = 0)\n",
    "b"
   ]
  },
  {
   "cell_type": "code",
   "execution_count": 244,
   "id": "934d0b42-10a7-4c05-9a96-cd84c7f46144",
   "metadata": {},
   "outputs": [
    {
     "ename": "ValueError",
     "evalue": "all the input array dimensions except for the concatenation axis must match exactly, but along dimension 0, the array at index 0 has size 1 and the array at index 1 has size 2",
     "output_type": "error",
     "traceback": [
      "\u001b[1;31m---------------------------------------------------------------------------\u001b[0m",
      "\u001b[1;31mValueError\u001b[0m                                Traceback (most recent call last)",
      "Cell \u001b[1;32mIn[244], line 1\u001b[0m\n\u001b[1;32m----> 1\u001b[0m c \u001b[38;5;241m=\u001b[39m \u001b[43mnp\u001b[49m\u001b[38;5;241;43m.\u001b[39;49m\u001b[43mappend\u001b[49m\u001b[43m(\u001b[49m\u001b[43m[\u001b[49m\u001b[43m[\u001b[49m\u001b[38;5;241;43m9\u001b[39;49m\u001b[43m,\u001b[49m\u001b[38;5;241;43m9\u001b[39;49m\u001b[43m]\u001b[49m\u001b[43m]\u001b[49m\u001b[43m,\u001b[49m\u001b[43m \u001b[49m\u001b[43ma\u001b[49m\u001b[43m,\u001b[49m\u001b[43m \u001b[49m\u001b[43maxis\u001b[49m\u001b[43m \u001b[49m\u001b[38;5;241;43m=\u001b[39;49m\u001b[43m \u001b[49m\u001b[38;5;241;43m1\u001b[39;49m\u001b[43m)\u001b[49m\n\u001b[0;32m      2\u001b[0m c\n",
      "File \u001b[1;32m~\\AppData\\Roaming\\Python\\Python312\\site-packages\\numpy\\lib\\function_base.py:5618\u001b[0m, in \u001b[0;36mappend\u001b[1;34m(arr, values, axis)\u001b[0m\n\u001b[0;32m   5616\u001b[0m     values \u001b[38;5;241m=\u001b[39m ravel(values)\n\u001b[0;32m   5617\u001b[0m     axis \u001b[38;5;241m=\u001b[39m arr\u001b[38;5;241m.\u001b[39mndim\u001b[38;5;241m-\u001b[39m\u001b[38;5;241m1\u001b[39m\n\u001b[1;32m-> 5618\u001b[0m \u001b[38;5;28;01mreturn\u001b[39;00m \u001b[43mconcatenate\u001b[49m\u001b[43m(\u001b[49m\u001b[43m(\u001b[49m\u001b[43marr\u001b[49m\u001b[43m,\u001b[49m\u001b[43m \u001b[49m\u001b[43mvalues\u001b[49m\u001b[43m)\u001b[49m\u001b[43m,\u001b[49m\u001b[43m \u001b[49m\u001b[43maxis\u001b[49m\u001b[38;5;241;43m=\u001b[39;49m\u001b[43maxis\u001b[49m\u001b[43m)\u001b[49m\n",
      "\u001b[1;31mValueError\u001b[0m: all the input array dimensions except for the concatenation axis must match exactly, but along dimension 0, the array at index 0 has size 1 and the array at index 1 has size 2"
     ]
    }
   ],
   "source": [
    "c = np.append([[9,9]], a, axis = 1)\n",
    "c"
   ]
  },
  {
   "cell_type": "markdown",
   "id": "c38ee59a-75c2-4663-ba3a-0107e83a207d",
   "metadata": {},
   "source": [
    "# Delete elements"
   ]
  },
  {
   "cell_type": "code",
   "execution_count": 247,
   "id": "7e9bd101-a0d7-4ddf-b6e7-a2b7564c8122",
   "metadata": {},
   "outputs": [
    {
     "data": {
      "text/plain": [
       "array([[1, 2, 3],\n",
       "       [4, 5, 6]])"
      ]
     },
     "execution_count": 247,
     "metadata": {},
     "output_type": "execute_result"
    }
   ],
   "source": [
    "a = np.array([[1,2,3], [4,5,6]])\n",
    "a"
   ]
  },
  {
   "cell_type": "code",
   "execution_count": 249,
   "id": "8bb4c261-ff40-4442-91c6-42652b3ad8ef",
   "metadata": {},
   "outputs": [
    {
     "data": {
      "text/plain": [
       "array([2, 3, 4, 5, 6])"
      ]
     },
     "execution_count": 249,
     "metadata": {},
     "output_type": "execute_result"
    }
   ],
   "source": [
    "np.delete(a,0)"
   ]
  },
  {
   "cell_type": "code",
   "execution_count": null,
   "id": "440a0eec-1968-40f9-a6a9-0872321a2fca",
   "metadata": {},
   "outputs": [],
   "source": [
    "np.delate"
   ]
  }
 ],
 "metadata": {
  "kernelspec": {
   "display_name": "Python 3 (ipykernel)",
   "language": "python",
   "name": "python3"
  },
  "language_info": {
   "codemirror_mode": {
    "name": "ipython",
    "version": 3
   },
   "file_extension": ".py",
   "mimetype": "text/x-python",
   "name": "python",
   "nbconvert_exporter": "python",
   "pygments_lexer": "ipython3",
   "version": "3.12.4"
  }
 },
 "nbformat": 4,
 "nbformat_minor": 5
}
