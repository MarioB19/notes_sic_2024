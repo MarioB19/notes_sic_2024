{
 "cells": [
  {
   "cell_type": "code",
   "execution_count": 39,
   "id": "95db8a85-2285-483b-b7ac-d9c806280392",
   "metadata": {},
   "outputs": [
    {
     "data": {
      "text/html": [
       "<div>\n",
       "<style scoped>\n",
       "    .dataframe tbody tr th:only-of-type {\n",
       "        vertical-align: middle;\n",
       "    }\n",
       "\n",
       "    .dataframe tbody tr th {\n",
       "        vertical-align: top;\n",
       "    }\n",
       "\n",
       "    .dataframe thead th {\n",
       "        text-align: right;\n",
       "    }\n",
       "</style>\n",
       "<table border=\"1\" class=\"dataframe\">\n",
       "  <thead>\n",
       "    <tr style=\"text-align: right;\">\n",
       "      <th></th>\n",
       "      <th>Name</th>\n",
       "      <th>Gender</th>\n",
       "      <th>Age</th>\n",
       "      <th>Grade</th>\n",
       "      <th>Absence</th>\n",
       "      <th>Bloodtype</th>\n",
       "      <th>Height</th>\n",
       "      <th>Weight</th>\n",
       "    </tr>\n",
       "  </thead>\n",
       "  <tbody>\n",
       "    <tr>\n",
       "      <th>0</th>\n",
       "      <td>Jared Diamond</td>\n",
       "      <td>M</td>\n",
       "      <td>23</td>\n",
       "      <td>3</td>\n",
       "      <td>Y</td>\n",
       "      <td>O</td>\n",
       "      <td>165.3</td>\n",
       "      <td>68.2</td>\n",
       "    </tr>\n",
       "    <tr>\n",
       "      <th>1</th>\n",
       "      <td>Sarah O'Donnel</td>\n",
       "      <td>F</td>\n",
       "      <td>22</td>\n",
       "      <td>2</td>\n",
       "      <td>N</td>\n",
       "      <td>AB</td>\n",
       "      <td>170.1</td>\n",
       "      <td>53.0</td>\n",
       "    </tr>\n",
       "    <tr>\n",
       "      <th>2</th>\n",
       "      <td>Brian Martin</td>\n",
       "      <td>M</td>\n",
       "      <td>24</td>\n",
       "      <td>4</td>\n",
       "      <td>N</td>\n",
       "      <td>B</td>\n",
       "      <td>175.0</td>\n",
       "      <td>80.1</td>\n",
       "    </tr>\n",
       "    <tr>\n",
       "      <th>3</th>\n",
       "      <td>David Hassel</td>\n",
       "      <td>M</td>\n",
       "      <td>23</td>\n",
       "      <td>3</td>\n",
       "      <td>N</td>\n",
       "      <td>AB</td>\n",
       "      <td>182.1</td>\n",
       "      <td>85.7</td>\n",
       "    </tr>\n",
       "    <tr>\n",
       "      <th>4</th>\n",
       "      <td>Clara Rodriquez</td>\n",
       "      <td>F</td>\n",
       "      <td>20</td>\n",
       "      <td>1</td>\n",
       "      <td>Y</td>\n",
       "      <td>A</td>\n",
       "      <td>168.0</td>\n",
       "      <td>49.5</td>\n",
       "    </tr>\n",
       "    <tr>\n",
       "      <th>5</th>\n",
       "      <td>Jennifer Lorentz</td>\n",
       "      <td>F</td>\n",
       "      <td>21</td>\n",
       "      <td>2</td>\n",
       "      <td>N</td>\n",
       "      <td>O</td>\n",
       "      <td>162.0</td>\n",
       "      <td>52.0</td>\n",
       "    </tr>\n",
       "    <tr>\n",
       "      <th>6</th>\n",
       "      <td>Susan Clark</td>\n",
       "      <td>F</td>\n",
       "      <td>22</td>\n",
       "      <td>1</td>\n",
       "      <td>N</td>\n",
       "      <td>O</td>\n",
       "      <td>155.2</td>\n",
       "      <td>45.3</td>\n",
       "    </tr>\n",
       "    <tr>\n",
       "      <th>7</th>\n",
       "      <td>Margareth Jones</td>\n",
       "      <td>F</td>\n",
       "      <td>23</td>\n",
       "      <td>1</td>\n",
       "      <td>N</td>\n",
       "      <td>A</td>\n",
       "      <td>176.9</td>\n",
       "      <td>55.0</td>\n",
       "    </tr>\n",
       "    <tr>\n",
       "      <th>8</th>\n",
       "      <td>John Bertsch</td>\n",
       "      <td>M</td>\n",
       "      <td>23</td>\n",
       "      <td>3</td>\n",
       "      <td>N</td>\n",
       "      <td>B</td>\n",
       "      <td>178.5</td>\n",
       "      <td>64.2</td>\n",
       "    </tr>\n",
       "    <tr>\n",
       "      <th>9</th>\n",
       "      <td>Jake Timmerman</td>\n",
       "      <td>M</td>\n",
       "      <td>22</td>\n",
       "      <td>2</td>\n",
       "      <td>N</td>\n",
       "      <td>B</td>\n",
       "      <td>176.1</td>\n",
       "      <td>61.3</td>\n",
       "    </tr>\n",
       "    <tr>\n",
       "      <th>10</th>\n",
       "      <td>Joshua Connor</td>\n",
       "      <td>M</td>\n",
       "      <td>24</td>\n",
       "      <td>4</td>\n",
       "      <td>Y</td>\n",
       "      <td>O</td>\n",
       "      <td>167.1</td>\n",
       "      <td>62.0</td>\n",
       "    </tr>\n",
       "    <tr>\n",
       "      <th>11</th>\n",
       "      <td>John Matsuda</td>\n",
       "      <td>M</td>\n",
       "      <td>22</td>\n",
       "      <td>2</td>\n",
       "      <td>N</td>\n",
       "      <td>AB</td>\n",
       "      <td>180.0</td>\n",
       "      <td>75.8</td>\n",
       "    </tr>\n",
       "    <tr>\n",
       "      <th>12</th>\n",
       "      <td>Eddy Johnson</td>\n",
       "      <td>M</td>\n",
       "      <td>21</td>\n",
       "      <td>1</td>\n",
       "      <td>N</td>\n",
       "      <td>A</td>\n",
       "      <td>162.2</td>\n",
       "      <td>55.3</td>\n",
       "    </tr>\n",
       "    <tr>\n",
       "      <th>13</th>\n",
       "      <td>Rebecah Anderson</td>\n",
       "      <td>F</td>\n",
       "      <td>23</td>\n",
       "      <td>3</td>\n",
       "      <td>N</td>\n",
       "      <td>O</td>\n",
       "      <td>176.1</td>\n",
       "      <td>53.1</td>\n",
       "    </tr>\n",
       "    <tr>\n",
       "      <th>14</th>\n",
       "      <td>Linda Carter</td>\n",
       "      <td>F</td>\n",
       "      <td>22</td>\n",
       "      <td>2</td>\n",
       "      <td>N</td>\n",
       "      <td>B</td>\n",
       "      <td>158.2</td>\n",
       "      <td>45.2</td>\n",
       "    </tr>\n",
       "    <tr>\n",
       "      <th>15</th>\n",
       "      <td>Richard Swayze</td>\n",
       "      <td>M</td>\n",
       "      <td>24</td>\n",
       "      <td>4</td>\n",
       "      <td>Y</td>\n",
       "      <td>B</td>\n",
       "      <td>168.6</td>\n",
       "      <td>70.2</td>\n",
       "    </tr>\n",
       "    <tr>\n",
       "      <th>16</th>\n",
       "      <td>Andrew King</td>\n",
       "      <td>M</td>\n",
       "      <td>21</td>\n",
       "      <td>1</td>\n",
       "      <td>N</td>\n",
       "      <td>A</td>\n",
       "      <td>169.2</td>\n",
       "      <td>62.2</td>\n",
       "    </tr>\n",
       "  </tbody>\n",
       "</table>\n",
       "</div>"
      ],
      "text/plain": [
       "                Name Gender  Age  Grade Absence Bloodtype  Height  Weight\n",
       "0      Jared Diamond      M   23      3       Y         O   165.3    68.2\n",
       "1     Sarah O'Donnel      F   22      2       N        AB   170.1    53.0\n",
       "2       Brian Martin      M   24      4       N         B   175.0    80.1\n",
       "3       David Hassel      M   23      3       N        AB   182.1    85.7\n",
       "4    Clara Rodriquez      F   20      1       Y         A   168.0    49.5\n",
       "5   Jennifer Lorentz      F   21      2       N         O   162.0    52.0\n",
       "6        Susan Clark      F   22      1       N         O   155.2    45.3\n",
       "7    Margareth Jones      F   23      1       N         A   176.9    55.0\n",
       "8       John Bertsch      M   23      3       N         B   178.5    64.2\n",
       "9     Jake Timmerman      M   22      2       N         B   176.1    61.3\n",
       "10     Joshua Connor      M   24      4       Y         O   167.1    62.0\n",
       "11      John Matsuda      M   22      2       N        AB   180.0    75.8\n",
       "12      Eddy Johnson      M   21      1       N         A   162.2    55.3\n",
       "13  Rebecah Anderson      F   23      3       N         O   176.1    53.1\n",
       "14      Linda Carter      F   22      2       N         B   158.2    45.2\n",
       "15    Richard Swayze      M   24      4       Y         B   168.6    70.2\n",
       "16       Andrew King      M   21      1       N         A   169.2    62.2"
      ]
     },
     "execution_count": 39,
     "metadata": {},
     "output_type": "execute_result"
    }
   ],
   "source": [
    "import pandas as pd\n",
    "import os\n",
    "\n",
    "\n",
    "df = pd.read_csv('data_studentlist.csv', header='infer')\n",
    "df.head(100)\n"
   ]
  },
  {
   "cell_type": "markdown",
   "id": "61134190-a9dc-4b95-b942-975a18c94a7a",
   "metadata": {},
   "source": [
    "# Ejercicio 1"
   ]
  },
  {
   "cell_type": "code",
   "execution_count": 8,
   "id": "bf7a096f-e742-41d1-9bd0-ee0437bea318",
   "metadata": {},
   "outputs": [
    {
     "name": "stdout",
     "output_type": "stream",
     "text": [
      "172.41000000000003\n"
     ]
    }
   ],
   "source": [
    "#1\n",
    "average_heigth = df[df['Gender'] == 'M']['Height'].mean()\n",
    "print(average_heigth)"
   ]
  },
  {
   "cell_type": "code",
   "execution_count": 11,
   "id": "fbb03d0c-c77f-435d-a02f-35d1aad4150c",
   "metadata": {},
   "outputs": [
    {
     "name": "stdout",
     "output_type": "stream",
     "text": [
      "170.03529411764703\n"
     ]
    }
   ],
   "source": [
    "#2\n",
    "average_heigth = df['Height'].mean()\n",
    "print(average_age)"
   ]
  },
  {
   "cell_type": "code",
   "execution_count": 17,
   "id": "2c29b278-1f38-4898-acd9-34b2e6b26de0",
   "metadata": {},
   "outputs": [
    {
     "name": "stdout",
     "output_type": "stream",
     "text": [
      "68.50000000000001\n"
     ]
    }
   ],
   "source": [
    "#3\n",
    "average_weigth = df[df['Gender'] == 'M']['Weight'].mean()\n",
    "print(average_weigth)"
   ]
  },
  {
   "cell_type": "code",
   "execution_count": 19,
   "id": "d52e14b7-4699-456a-b7f2-789419dc2444",
   "metadata": {},
   "outputs": [
    {
     "name": "stdout",
     "output_type": "stream",
     "text": [
      "61.06470588235294\n"
     ]
    }
   ],
   "source": [
    "#4\n",
    "average_weigth = df['Weight'].mean()\n",
    "print(average_weigth)"
   ]
  },
  {
   "cell_type": "code",
   "execution_count": 21,
   "id": "951d4fd7-4391-47dc-b1b4-6b107bfb19c4",
   "metadata": {},
   "outputs": [
    {
     "name": "stdout",
     "output_type": "stream",
     "text": [
      "182.1\n"
     ]
    }
   ],
   "source": [
    "#5\n",
    "max_heigth = df[df['Gender'] == 'M']['Height'].max()\n",
    "print(max_heigth)"
   ]
  },
  {
   "cell_type": "code",
   "execution_count": 23,
   "id": "36770e05-bdbb-4a98-b9cb-2f8788087d2f",
   "metadata": {},
   "outputs": [
    {
     "name": "stdout",
     "output_type": "stream",
     "text": [
      "182.1\n"
     ]
    }
   ],
   "source": [
    "#6\n",
    "min_heigth = df['Height'].max()\n",
    "print(min_heigth)"
   ]
  },
  {
   "cell_type": "code",
   "execution_count": 35,
   "id": "6c48802b-148a-49a1-a45d-b466a844d69d",
   "metadata": {},
   "outputs": [
    {
     "name": "stdout",
     "output_type": "stream",
     "text": [
      "61.3\n"
     ]
    }
   ],
   "source": [
    "#7\n",
    "min_heigth = df[(df['Gender'] == 'M') & (df['Height'] > 175)]['Weight'].min()\n",
    "print(min_heigth)\n"
   ]
  },
  {
   "cell_type": "code",
   "execution_count": 37,
   "id": "b3f7f7ec-40d5-4d86-b98b-864cddef4af5",
   "metadata": {},
   "outputs": [
    {
     "name": "stdout",
     "output_type": "stream",
     "text": [
      "45.2\n"
     ]
    }
   ],
   "source": [
    "#8\n",
    "min_heigth = df[df['Height'] < 160]['Weight'].min()\n",
    "print(min_heigth)\n"
   ]
  },
  {
   "cell_type": "code",
   "execution_count": 45,
   "id": "86d2dcd7-2a07-47c6-87e5-f8b7ae128bbe",
   "metadata": {},
   "outputs": [
    {
     "name": "stdout",
     "output_type": "stream",
     "text": [
      "61.06470588235294\n"
     ]
    }
   ],
   "source": [
    "#9\n",
    "average_notes = df[df['Absence'] == 'N']['Grade'].mean()\n",
    "print(average_weigth)"
   ]
  },
  {
   "cell_type": "code",
   "execution_count": 47,
   "id": "15d4371b-6ac6-48fc-9d02-a207830bbb4e",
   "metadata": {},
   "outputs": [
    {
     "name": "stdout",
     "output_type": "stream",
     "text": [
      "61.06470588235294\n"
     ]
    }
   ],
   "source": [
    "#10\n",
    "average_notes = df[df['Absence'] == 'Y']['Grade'].mean()\n",
    "print(average_weigth)"
   ]
  },
  {
   "cell_type": "code",
   "execution_count": 75,
   "id": "8758217a-590f-41a6-8143-9f04c4004aac",
   "metadata": {},
   "outputs": [
    {
     "name": "stdout",
     "output_type": "stream",
     "text": [
      "172.64285714285714\n"
     ]
    }
   ],
   "source": [
    "#11\n",
    "average_heigth = df[(df['Bloodtype'] == 'A' ) | (df['Bloodtype'] == 'AB' )]['Height'].mean()\n",
    "print(average_heigth)"
   ]
  },
  {
   "cell_type": "code",
   "execution_count": 83,
   "id": "e05a5294-eb73-4aa8-93b4-8cebbfdb4337",
   "metadata": {},
   "outputs": [
    {
     "name": "stdout",
     "output_type": "stream",
     "text": [
      "173.375\n"
     ]
    }
   ],
   "source": [
    "#12\n",
    "average_heigth = df[(df['Gender'] == 'M') & ((df['Bloodtype'] == 'A' ) | (df['Bloodtype'] == 'AB' ))]['Height'].mean()\n",
    "print(average_heigth)"
   ]
  },
  {
   "cell_type": "code",
   "execution_count": null,
   "id": "1d06b72b-836b-4ee2-85f7-4eebee47aa2c",
   "metadata": {},
   "outputs": [],
   "source": [
    "average_age = df[df[\"Absence\"] == 'Y' & df['Grade"
   ]
  }
 ],
 "metadata": {
  "kernelspec": {
   "display_name": "Python 3 (ipykernel)",
   "language": "python",
   "name": "python3"
  },
  "language_info": {
   "codemirror_mode": {
    "name": "ipython",
    "version": 3
   },
   "file_extension": ".py",
   "mimetype": "text/x-python",
   "name": "python",
   "nbconvert_exporter": "python",
   "pygments_lexer": "ipython3",
   "version": "3.12.7"
  }
 },
 "nbformat": 4,
 "nbformat_minor": 5
}
