{
 "cells": [
  {
   "cell_type": "markdown",
   "id": "0377c21c-e583-49da-b229-65cff9068536",
   "metadata": {},
   "source": [
    "### Trabajando con matrices"
   ]
  },
  {
   "cell_type": "markdown",
   "id": "0f68292d-d90d-45f6-a879-94a8a258e54b",
   "metadata": {},
   "source": [
    "#### Importamos librerias"
   ]
  },
  {
   "cell_type": "code",
   "execution_count": 2,
   "id": "44659465-28f7-42bf-9324-dd0b96d283b5",
   "metadata": {},
   "outputs": [],
   "source": [
    "import numpy as np\n",
    "import cv2 as cv"
   ]
  },
  {
   "cell_type": "code",
   "execution_count": 36,
   "id": "4c2d6f0b-94d5-44a9-8a5c-d7a63b29840b",
   "metadata": {},
   "outputs": [],
   "source": [
    "A = np.array([[1,1,1], [1,1,1], [1,1,1]]) #definimos matriz"
   ]
  },
  {
   "cell_type": "code",
   "execution_count": 14,
   "id": "1fe904fc-6d33-48c4-822b-4c5b84796300",
   "metadata": {},
   "outputs": [
    {
     "name": "stdout",
     "output_type": "stream",
     "text": [
      "[[1 2 3]\n",
      " [4 5 6]\n",
      " [7 8 9]]\n"
     ]
    }
   ],
   "source": [
    "print(A)"
   ]
  },
  {
   "cell_type": "code",
   "execution_count": 38,
   "id": "83c0a862-420a-44d3-a86c-0568670d9750",
   "metadata": {},
   "outputs": [
    {
     "name": "stdout",
     "output_type": "stream",
     "text": [
      "[[1 2 3]\n",
      " [4 5 6]\n",
      " [7 8 9]]\n",
      "Normal\n",
      "[[12 15 18]\n",
      " [12 15 18]\n",
      " [12 15 18]]\n",
      "Matmul\n",
      "[[12 15 18]\n",
      " [12 15 18]\n",
      " [12 15 18]]\n",
      "\n",
      "\n"
     ]
    }
   ],
   "source": [
    "B = np.array([[1,2,3,], [4,5,6], [7,8,9]]) \n",
    "B_T = np.transpose(B)\n",
    "print(B)\n",
    "#print(B_T)\n",
    "\n",
    "print(\"Normal\")\n",
    "print(A@B)\n",
    "\n",
    "print(\"Matmul\")\n",
    "print(np.matmul(A,B)) #Necesario para multiplicar una matriz cuando es transpuesta\n",
    "\n",
    "print(\"\\n\")\n"
   ]
  },
  {
   "cell_type": "code",
   "execution_count": 12,
   "id": "f7b0f69c-64b4-4153-af23-e7cf1b041557",
   "metadata": {},
   "outputs": [
    {
     "name": "stdout",
     "output_type": "stream",
     "text": [
      "[[100 100 100 ... 100 100 100]\n",
      " [100 100 100 ... 100 100 100]\n",
      " [100 100 100 ... 100 100 100]\n",
      " ...\n",
      " [100 100 100 ... 100 100 100]\n",
      " [100 100 100 ... 100 100 100]\n",
      " [100 100 100 ... 100 100 100]]\n"
     ]
    }
   ],
   "source": [
    "I = np.ones((250,250),dtype= np.uint8) * 100 # multiplicacion por escalar\n",
    "print(I)"
   ]
  },
  {
   "cell_type": "code",
   "execution_count": 13,
   "id": "a778ac90-8ae1-47dc-bcef-7c307d7e72b6",
   "metadata": {},
   "outputs": [
    {
     "data": {
      "text/plain": [
       "-1"
      ]
     },
     "execution_count": 13,
     "metadata": {},
     "output_type": "execute_result"
    }
   ],
   "source": [
    "cv.imshow(\"Mi primer imagen\", I)\n",
    "cv.waitKey(0)"
   ]
  },
  {
   "cell_type": "code",
   "execution_count": 11,
   "id": "4e61b939-4f51-47a3-88e3-98b708953d63",
   "metadata": {},
   "outputs": [
    {
     "data": {
      "text/plain": [
       "-1"
      ]
     },
     "execution_count": 11,
     "metadata": {},
     "output_type": "execute_result"
    }
   ],
   "source": [
    "Imagencita = cv.imread(\"example1.jpeg\",0) *2\n",
    "\n",
    "cv.imshow(\"Mi primer imagen\", Imagencita)\n",
    "cv.waitKey(0)"
   ]
  },
  {
   "cell_type": "code",
   "execution_count": null,
   "id": "d0897671-a631-4d9c-a5d4-f800ec366721",
   "metadata": {},
   "outputs": [],
   "source": []
  }
 ],
 "metadata": {
  "kernelspec": {
   "display_name": "Python 3 (ipykernel)",
   "language": "python",
   "name": "python3"
  },
  "language_info": {
   "codemirror_mode": {
    "name": "ipython",
    "version": 3
   },
   "file_extension": ".py",
   "mimetype": "text/x-python",
   "name": "python",
   "nbconvert_exporter": "python",
   "pygments_lexer": "ipython3",
   "version": "3.12.4"
  }
 },
 "nbformat": 4,
 "nbformat_minor": 5
}
