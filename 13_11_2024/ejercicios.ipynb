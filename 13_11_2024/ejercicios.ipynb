{
 "cells": [
  {
   "cell_type": "code",
   "execution_count": 25,
   "id": "ff24a70a-250b-4630-88ec-0a55829235b2",
   "metadata": {},
   "outputs": [],
   "source": [
    "import pandas as pd\n",
    "import numpy as np"
   ]
  },
  {
   "cell_type": "markdown",
   "id": "82349c8a-2aee-4ac8-ac45-f9743f7c964b",
   "metadata": {},
   "source": [
    "# Ejercicio 1"
   ]
  },
  {
   "cell_type": "code",
   "execution_count": 11,
   "id": "698f192b-38fb-4ae5-a9b6-66d2673f6f29",
   "metadata": {},
   "outputs": [
    {
     "name": "stdout",
     "output_type": "stream",
     "text": [
      "0       Mario\n",
      "1       Dario\n",
      "2        Luis\n",
      "3    Salvador\n",
      "4       Dixie\n",
      "dtype: object\n"
     ]
    }
   ],
   "source": [
    "alumnos = ['Mario', 'Dario', 'Luis', 'Salvador', 'Dixie']\n",
    "alumnos_series = pd.Series(alumnos)\n",
    "print(alumnos_series)\n"
   ]
  },
  {
   "cell_type": "code",
   "execution_count": 13,
   "id": "16ea8adb-7e09-419c-a288-c8577ca009a2",
   "metadata": {},
   "outputs": [
    {
     "name": "stdout",
     "output_type": "stream",
     "text": [
      "0    100\n",
      "1     80\n",
      "2     70\n",
      "3     60\n",
      "4     50\n",
      "dtype: int64\n"
     ]
    }
   ],
   "source": [
    "calificaciones = [100, 80, 70, 60,50]\n",
    "calificaciones_series = pd.Series(calificaciones)\n",
    "print(calificaciones_series)"
   ]
  },
  {
   "cell_type": "markdown",
   "id": "55ec6a1e-192b-48f7-a920-a4953b9e797e",
   "metadata": {},
   "source": [
    "# Ejercicio 2"
   ]
  },
  {
   "cell_type": "code",
   "execution_count": 19,
   "id": "0fea9ab1-0382-43a8-811f-a2f33468c683",
   "metadata": {},
   "outputs": [
    {
     "name": "stdout",
     "output_type": "stream",
     "text": [
      "0    0\n",
      "1    2\n",
      "2    4\n",
      "3    6\n",
      "4    8\n",
      "dtype: int64\n"
     ]
    }
   ],
   "source": [
    "ser1=pd.Series([0,1,2,3,4], index=[0,1,2,3,4])\n",
    "ser2=pd.Series([0,1,2,3,4], index=[0,1,2,3,4])\n",
    "\n",
    "print(ser1+ser2)"
   ]
  },
  {
   "cell_type": "code",
   "execution_count": 35,
   "id": "15fdeff5-e98e-4ccb-90c0-631bbeb58a0a",
   "metadata": {},
   "outputs": [
    {
     "name": "stdout",
     "output_type": "stream",
     "text": [
      "13     5.034483\n",
      "14     5.344828\n",
      "15     5.655172\n",
      "16     5.965517\n",
      "17     6.275862\n",
      "18     6.586207\n",
      "19     6.896552\n",
      "20     7.206897\n",
      "21     7.517241\n",
      "22     7.827586\n",
      "23     8.137931\n",
      "24     8.448276\n",
      "25     8.758621\n",
      "26     9.068966\n",
      "27     9.379310\n",
      "28     9.689655\n",
      "29    10.000000\n",
      "dtype: float64\n"
     ]
    }
   ],
   "source": [
    "numbers= np.linspace(1,10,30)\n",
    "numbers_series = pd.Series(numbers)\n",
    "\n",
    "print(numbers_series[numbers_series>5])"
   ]
  },
  {
   "cell_type": "code",
   "execution_count": 39,
   "id": "29685d53-407f-4152-a237-adad345e4c0d",
   "metadata": {},
   "outputs": [
    {
     "name": "stdout",
     "output_type": "stream",
     "text": [
      "5.5\n",
      "5.5\n",
      "2.732092271636743\n"
     ]
    }
   ],
   "source": [
    "print(numbers_series.mean())\n",
    "print(numbers_series.median())\n",
    "print(numbers_series.std())\n"
   ]
  },
  {
   "cell_type": "markdown",
   "id": "18052c4c-8553-4b8a-9c0e-422c855a5a46",
   "metadata": {},
   "source": [
    "# Ejercicio 3"
   ]
  },
  {
   "cell_type": "code",
   "execution_count": 71,
   "id": "685bd966-4f2e-44d9-8dca-d30b4a4f47c5",
   "metadata": {},
   "outputs": [
    {
     "name": "stdout",
     "output_type": "stream",
     "text": [
      "     Nombre  Examen 1  Examen 2  Promedio\n",
      "0     Mario        20        60      40.0\n",
      "1     Dario        80        60      70.0\n",
      "2  Salvador        78        84      81.0\n",
      "3     Dixie        70        15      42.5\n",
      "4     Ramon        95        89      92.0\n"
     ]
    }
   ],
   "source": [
    "data = {\n",
    "    'Nombre': ['Mario', 'Dario', 'Salvador', 'Dixie', 'Ramon'],\n",
    "    'Examen 1': [20, 80, 78, 70, 95],\n",
    "    'Examen 2': [60, 60, 84, 15, 89]\n",
    "}\n",
    "\n",
    "df_alumnos = pd.DataFrame(data)\n",
    "\n",
    "df_alumnos['Promedio'] = df_alumnos[['Examen 1', 'Examen 2']].mean(axis=1)\n",
    "\n",
    "print(df_alumnos)"
   ]
  },
  {
   "cell_type": "markdown",
   "id": "db69727f-538c-4715-b3f1-2340a7933a70",
   "metadata": {},
   "source": [
    "# Ejercicio 4"
   ]
  },
  {
   "cell_type": "code",
   "execution_count": 74,
   "id": "9fbc4918-715c-4d54-a923-86f23a455224",
   "metadata": {},
   "outputs": [
    {
     "name": "stdout",
     "output_type": "stream",
     "text": [
      "     Nombre  Examen 1  Examen 2  Promedio\n",
      "0     Mario        20        60    42.000\n",
      "1     Dario        80        60    73.500\n",
      "2  Salvador        78        84    85.050\n",
      "3     Dixie        70        15    44.625\n",
      "4     Ramon        95        89    96.600\n"
     ]
    }
   ],
   "source": [
    "df_alumnos['Promedio'] = df_alumnos['Promedio'].apply(lambda x: x*1.05)\n",
    "print(df_alumnos)"
   ]
  },
  {
   "cell_type": "code",
   "execution_count": 76,
   "id": "f258570f-d8ee-4c10-8755-a56f7ed70fe4",
   "metadata": {},
   "outputs": [],
   "source": [
    "def get_letter(cal):\n",
    "    if cal <=100 and cal>75:\n",
    "        return 'A'\n",
    "    elif cal <=75 and cal >50:\n",
    "        return 'B'\n",
    "    elif cal <=50 and cal >25:\n",
    "        return 'C'\n",
    "    else:\n",
    "        return 'D'\n"
   ]
  },
  {
   "cell_type": "code",
   "execution_count": 78,
   "id": "afd283d3-7f77-433d-ba3b-a10aca0b8dfe",
   "metadata": {},
   "outputs": [
    {
     "name": "stdout",
     "output_type": "stream",
     "text": [
      "     Nombre  Examen 1  Examen 2 Promedio\n",
      "0     Mario        20        60        C\n",
      "1     Dario        80        60        B\n",
      "2  Salvador        78        84        A\n",
      "3     Dixie        70        15        C\n",
      "4     Ramon        95        89        A\n"
     ]
    }
   ],
   "source": [
    "df_alumnos['Promedio'] = df_alumnos['Promedio'].apply(lambda x: get_letter(x))\n",
    "print(df_alumnos)"
   ]
  },
  {
   "cell_type": "markdown",
   "id": "ea08ac4d-a553-4f84-aeb7-939e729d79e7",
   "metadata": {},
   "source": [
    "# Ejemplo practico de uso de panas"
   ]
  },
  {
   "cell_type": "markdown",
   "id": "97307098-04f6-4e0e-b44e-be4bd8d240f1",
   "metadata": {},
   "source": [
    "# Ejercicio 5"
   ]
  },
  {
   "cell_type": "code",
   "execution_count": 120,
   "id": "22bafdc2-81d3-439b-9c5b-7f6914cca12b",
   "metadata": {},
   "outputs": [
    {
     "name": "stdout",
     "output_type": "stream",
     "text": [
      "   Sepal.Length  Sepal.Width  Petal.Length  Petal.Width Species\n",
      "0           5.1          3.5           1.4          0.2  setosa\n",
      "1           4.9          3.0           1.4          0.2  setosa\n",
      "2           4.7          3.2           1.3          0.2  setosa\n",
      "3           4.6          3.1           1.5          0.2  setosa\n",
      "4           5.0          3.6           1.4          0.2  setosa\n",
      "       Sepal.Length  Sepal.Width  Petal.Length  Petal.Width\n",
      "count    150.000000   150.000000    150.000000   150.000000\n",
      "mean       5.843333     3.054000      3.758667     1.198667\n",
      "std        0.828066     0.433594      1.764420     0.763161\n",
      "min        4.300000     2.000000      1.000000     0.100000\n",
      "25%        5.100000     2.800000      1.600000     0.300000\n",
      "50%        5.800000     3.000000      4.350000     1.300000\n",
      "75%        6.400000     3.300000      5.100000     1.800000\n",
      "max        7.900000     4.400000      6.900000     2.500000\n"
     ]
    }
   ],
   "source": [
    "iris_df=pd.read_csv('data_Iris.xls')\n",
    "print(iris_df.head(5))\n",
    "print(iris_df.describe())"
   ]
  },
  {
   "cell_type": "code",
   "execution_count": 128,
   "id": "e3be38c8-5131-467c-93e1-7a6df459aa78",
   "metadata": {},
   "outputs": [
    {
     "name": "stdout",
     "output_type": "stream",
     "text": [
      "    Sepal.Length  Sepal.Width  Petal.Length  Petal.Width Species\n",
      "0            5.1          3.5           1.4          0.2  setosa\n",
      "1            4.9          3.0           1.4          0.2  setosa\n",
      "2            4.7          3.2           1.3          0.2  setosa\n",
      "3            4.6          3.1           1.5          0.2  setosa\n",
      "4            5.0          3.6           1.4          0.2  setosa\n",
      "5            5.4          3.9           1.7          0.4  setosa\n",
      "6            4.6          3.4           1.4          0.3  setosa\n",
      "7            5.0          3.4           1.5          0.2  setosa\n",
      "8            4.4          2.9           1.4          0.2  setosa\n",
      "9            4.9          3.1           1.5          0.1  setosa\n",
      "10           5.4          3.7           1.5          0.2  setosa\n",
      "11           4.8          3.4           1.6          0.2  setosa\n",
      "12           4.8          3.0           1.4          0.1  setosa\n",
      "13           4.3          3.0           1.1          0.1  setosa\n",
      "14           5.8          4.0           1.2          0.2  setosa\n",
      "15           5.7          4.4           1.5          0.4  setosa\n",
      "16           5.4          3.9           1.3          0.4  setosa\n",
      "17           5.1          3.5           1.4          0.3  setosa\n",
      "18           5.7          3.8           1.7          0.3  setosa\n",
      "19           5.1          3.8           1.5          0.3  setosa\n",
      "20           5.4          3.4           1.7          0.2  setosa\n",
      "21           5.1          3.7           1.5          0.4  setosa\n",
      "22           4.6          3.6           1.0          0.2  setosa\n",
      "23           5.1          3.3           1.7          0.5  setosa\n",
      "24           4.8          3.4           1.9          0.2  setosa\n",
      "25           5.0          3.0           1.6          0.2  setosa\n",
      "26           5.0          3.4           1.6          0.4  setosa\n",
      "27           5.2          3.5           1.5          0.2  setosa\n",
      "28           5.2          3.4           1.4          0.2  setosa\n",
      "29           4.7          3.2           1.6          0.2  setosa\n",
      "30           4.8          3.1           1.6          0.2  setosa\n",
      "31           5.4          3.4           1.5          0.4  setosa\n",
      "32           5.2          4.1           1.5          0.1  setosa\n",
      "33           5.5          4.2           1.4          0.2  setosa\n",
      "34           4.9          3.1           1.5          0.1  setosa\n",
      "35           5.0          3.2           1.2          0.2  setosa\n",
      "36           5.5          3.5           1.3          0.2  setosa\n",
      "37           4.9          3.1           1.5          0.1  setosa\n",
      "38           4.4          3.0           1.3          0.2  setosa\n",
      "39           5.1          3.4           1.5          0.2  setosa\n",
      "40           5.0          3.5           1.3          0.3  setosa\n",
      "41           4.5          2.3           1.3          0.3  setosa\n",
      "42           4.4          3.2           1.3          0.2  setosa\n",
      "43           5.0          3.5           1.6          0.6  setosa\n",
      "44           5.1          3.8           1.9          0.4  setosa\n",
      "45           4.8          3.0           1.4          0.3  setosa\n",
      "46           5.1          3.8           1.6          0.2  setosa\n",
      "47           4.6          3.2           1.4          0.2  setosa\n",
      "48           5.3          3.7           1.5          0.2  setosa\n",
      "49           5.0          3.3           1.4          0.2  setosa\n"
     ]
    }
   ],
   "source": [
    "setosa_df = iris_df.groupby('Species').get_group('setosa')\n",
    "\n",
    "print(setosa_df)"
   ]
  },
  {
   "cell_type": "code",
   "execution_count": 144,
   "id": "573fc05f-d19b-4879-8109-5ebcd6486c57",
   "metadata": {},
   "outputs": [
    {
     "name": "stdout",
     "output_type": "stream",
     "text": [
      "     Sepal.Length  Petal.Length\n",
      "100           6.3           6.0\n",
      "101           5.8           5.1\n",
      "102           7.1           5.9\n",
      "103           6.3           5.6\n",
      "104           6.5           5.8\n",
      "105           7.6           6.6\n",
      "106           4.9           4.5\n",
      "107           7.3           6.3\n",
      "108           6.7           5.8\n",
      "109           7.2           6.1\n",
      "110           6.5           5.1\n",
      "111           6.4           5.3\n",
      "112           6.8           5.5\n",
      "113           5.7           5.0\n",
      "114           5.8           5.1\n",
      "115           6.4           5.3\n",
      "116           6.5           5.5\n",
      "117           7.7           6.7\n",
      "118           7.7           6.9\n",
      "119           6.0           5.0\n",
      "120           6.9           5.7\n",
      "121           5.6           4.9\n",
      "122           7.7           6.7\n",
      "123           6.3           4.9\n",
      "124           6.7           5.7\n",
      "125           7.2           6.0\n",
      "126           6.2           4.8\n",
      "127           6.1           4.9\n",
      "128           6.4           5.6\n",
      "129           7.2           5.8\n",
      "130           7.4           6.1\n",
      "131           7.9           6.4\n",
      "132           6.4           5.6\n",
      "133           6.3           5.1\n",
      "134           6.1           5.6\n",
      "135           7.7           6.1\n",
      "136           6.3           5.6\n",
      "137           6.4           5.5\n",
      "138           6.0           4.8\n",
      "139           6.9           5.4\n",
      "140           6.7           5.6\n",
      "141           6.9           5.1\n",
      "142           5.8           5.1\n",
      "143           6.8           5.9\n",
      "144           6.7           5.7\n",
      "145           6.7           5.2\n",
      "146           6.3           5.0\n",
      "147           6.5           5.2\n",
      "148           6.2           5.4\n",
      "149           5.9           5.1\n"
     ]
    }
   ],
   "source": [
    "virginica_df = iris_df.groupby('Species')[['Sepal.Length', 'Petal.Length']].get_group('virginica')\n",
    "\n",
    "print(virginica_df)"
   ]
  },
  {
   "cell_type": "markdown",
   "id": "53454a9b-747f-49d0-96af-487e1eae3f48",
   "metadata": {},
   "source": [
    "# Ejercicio 8"
   ]
  },
  {
   "cell_type": "code",
   "execution_count": 154,
   "id": "b79f1f07-2251-498b-b20f-16c90293a853",
   "metadata": {},
   "outputs": [
    {
     "data": {
      "text/html": [
       "<div>\n",
       "<style scoped>\n",
       "    .dataframe tbody tr th:only-of-type {\n",
       "        vertical-align: middle;\n",
       "    }\n",
       "\n",
       "    .dataframe tbody tr th {\n",
       "        vertical-align: top;\n",
       "    }\n",
       "\n",
       "    .dataframe thead tr th {\n",
       "        text-align: left;\n",
       "    }\n",
       "\n",
       "    .dataframe thead tr:last-of-type th {\n",
       "        text-align: right;\n",
       "    }\n",
       "</style>\n",
       "<table border=\"1\" class=\"dataframe\">\n",
       "  <thead>\n",
       "    <tr>\n",
       "      <th></th>\n",
       "      <th>Sepal.Length</th>\n",
       "      <th>Sepal.Width</th>\n",
       "      <th>Petal.Length</th>\n",
       "      <th>Petal.Width</th>\n",
       "    </tr>\n",
       "    <tr>\n",
       "      <th></th>\n",
       "      <th>mean</th>\n",
       "      <th>mean</th>\n",
       "      <th>mean</th>\n",
       "      <th>mean</th>\n",
       "    </tr>\n",
       "    <tr>\n",
       "      <th>Species</th>\n",
       "      <th></th>\n",
       "      <th></th>\n",
       "      <th></th>\n",
       "      <th></th>\n",
       "    </tr>\n",
       "  </thead>\n",
       "  <tbody>\n",
       "    <tr>\n",
       "      <th>setosa</th>\n",
       "      <td>5.006</td>\n",
       "      <td>3.418</td>\n",
       "      <td>1.464</td>\n",
       "      <td>0.244</td>\n",
       "    </tr>\n",
       "    <tr>\n",
       "      <th>versicolor</th>\n",
       "      <td>5.936</td>\n",
       "      <td>2.770</td>\n",
       "      <td>4.260</td>\n",
       "      <td>1.326</td>\n",
       "    </tr>\n",
       "    <tr>\n",
       "      <th>virginica</th>\n",
       "      <td>6.588</td>\n",
       "      <td>2.974</td>\n",
       "      <td>5.552</td>\n",
       "      <td>2.026</td>\n",
       "    </tr>\n",
       "  </tbody>\n",
       "</table>\n",
       "</div>"
      ],
      "text/plain": [
       "           Sepal.Length Sepal.Width Petal.Length Petal.Width\n",
       "                   mean        mean         mean        mean\n",
       "Species                                                     \n",
       "setosa            5.006       3.418        1.464       0.244\n",
       "versicolor        5.936       2.770        4.260       1.326\n",
       "virginica         6.588       2.974        5.552       2.026"
      ]
     },
     "execution_count": 154,
     "metadata": {},
     "output_type": "execute_result"
    }
   ],
   "source": [
    "result = iris_df.groupby('Species')[['Sepal.Length', 'Sepal.Width', 'Petal.Length', 'Petal.Width']].agg(['mean'])\n",
    "\n",
    "result\n"
   ]
  },
  {
   "cell_type": "code",
   "execution_count": 164,
   "id": "72622549-5006-4637-be66-714cb597d9d0",
   "metadata": {},
   "outputs": [
    {
     "name": "stdout",
     "output_type": "stream",
     "text": [
      "virginica\n"
     ]
    }
   ],
   "source": [
    "max_species = result['Petal.Width']['mean'].idxmax()\n",
    "\n",
    "print(max_species)\n"
   ]
  }
 ],
 "metadata": {
  "kernelspec": {
   "display_name": "Python 3 (ipykernel)",
   "language": "python",
   "name": "python3"
  },
  "language_info": {
   "codemirror_mode": {
    "name": "ipython",
    "version": 3
   },
   "file_extension": ".py",
   "mimetype": "text/x-python",
   "name": "python",
   "nbconvert_exporter": "python",
   "pygments_lexer": "ipython3",
   "version": "3.12.4"
  }
 },
 "nbformat": 4,
 "nbformat_minor": 5
}
