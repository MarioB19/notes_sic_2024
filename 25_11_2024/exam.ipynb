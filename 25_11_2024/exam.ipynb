{
 "cells": [
  {
   "cell_type": "code",
   "execution_count": 131,
   "id": "95db8a85-2285-483b-b7ac-d9c806280392",
   "metadata": {},
   "outputs": [
    {
     "data": {
      "text/html": [
       "<div>\n",
       "<style scoped>\n",
       "    .dataframe tbody tr th:only-of-type {\n",
       "        vertical-align: middle;\n",
       "    }\n",
       "\n",
       "    .dataframe tbody tr th {\n",
       "        vertical-align: top;\n",
       "    }\n",
       "\n",
       "    .dataframe thead th {\n",
       "        text-align: right;\n",
       "    }\n",
       "</style>\n",
       "<table border=\"1\" class=\"dataframe\">\n",
       "  <thead>\n",
       "    <tr style=\"text-align: right;\">\n",
       "      <th></th>\n",
       "      <th>Name</th>\n",
       "      <th>Gender</th>\n",
       "      <th>Age</th>\n",
       "      <th>Grade</th>\n",
       "      <th>Absence</th>\n",
       "      <th>Bloodtype</th>\n",
       "      <th>Height</th>\n",
       "      <th>Weight</th>\n",
       "    </tr>\n",
       "  </thead>\n",
       "  <tbody>\n",
       "    <tr>\n",
       "      <th>0</th>\n",
       "      <td>Jared Diamond</td>\n",
       "      <td>M</td>\n",
       "      <td>23</td>\n",
       "      <td>3</td>\n",
       "      <td>Y</td>\n",
       "      <td>O</td>\n",
       "      <td>165.3</td>\n",
       "      <td>68.2</td>\n",
       "    </tr>\n",
       "    <tr>\n",
       "      <th>1</th>\n",
       "      <td>Sarah O'Donnel</td>\n",
       "      <td>F</td>\n",
       "      <td>22</td>\n",
       "      <td>2</td>\n",
       "      <td>N</td>\n",
       "      <td>AB</td>\n",
       "      <td>170.1</td>\n",
       "      <td>53.0</td>\n",
       "    </tr>\n",
       "    <tr>\n",
       "      <th>2</th>\n",
       "      <td>Brian Martin</td>\n",
       "      <td>M</td>\n",
       "      <td>24</td>\n",
       "      <td>4</td>\n",
       "      <td>N</td>\n",
       "      <td>B</td>\n",
       "      <td>175.0</td>\n",
       "      <td>80.1</td>\n",
       "    </tr>\n",
       "    <tr>\n",
       "      <th>3</th>\n",
       "      <td>David Hassel</td>\n",
       "      <td>M</td>\n",
       "      <td>23</td>\n",
       "      <td>3</td>\n",
       "      <td>N</td>\n",
       "      <td>AB</td>\n",
       "      <td>182.1</td>\n",
       "      <td>85.7</td>\n",
       "    </tr>\n",
       "    <tr>\n",
       "      <th>4</th>\n",
       "      <td>Clara Rodriquez</td>\n",
       "      <td>F</td>\n",
       "      <td>20</td>\n",
       "      <td>1</td>\n",
       "      <td>Y</td>\n",
       "      <td>A</td>\n",
       "      <td>168.0</td>\n",
       "      <td>49.5</td>\n",
       "    </tr>\n",
       "    <tr>\n",
       "      <th>5</th>\n",
       "      <td>Jennifer Lorentz</td>\n",
       "      <td>F</td>\n",
       "      <td>21</td>\n",
       "      <td>2</td>\n",
       "      <td>N</td>\n",
       "      <td>O</td>\n",
       "      <td>162.0</td>\n",
       "      <td>52.0</td>\n",
       "    </tr>\n",
       "    <tr>\n",
       "      <th>6</th>\n",
       "      <td>Susan Clark</td>\n",
       "      <td>F</td>\n",
       "      <td>22</td>\n",
       "      <td>1</td>\n",
       "      <td>N</td>\n",
       "      <td>O</td>\n",
       "      <td>155.2</td>\n",
       "      <td>45.3</td>\n",
       "    </tr>\n",
       "    <tr>\n",
       "      <th>7</th>\n",
       "      <td>Margareth Jones</td>\n",
       "      <td>F</td>\n",
       "      <td>23</td>\n",
       "      <td>1</td>\n",
       "      <td>N</td>\n",
       "      <td>A</td>\n",
       "      <td>176.9</td>\n",
       "      <td>55.0</td>\n",
       "    </tr>\n",
       "    <tr>\n",
       "      <th>8</th>\n",
       "      <td>John Bertsch</td>\n",
       "      <td>M</td>\n",
       "      <td>23</td>\n",
       "      <td>3</td>\n",
       "      <td>N</td>\n",
       "      <td>B</td>\n",
       "      <td>178.5</td>\n",
       "      <td>64.2</td>\n",
       "    </tr>\n",
       "    <tr>\n",
       "      <th>9</th>\n",
       "      <td>Jake Timmerman</td>\n",
       "      <td>M</td>\n",
       "      <td>22</td>\n",
       "      <td>2</td>\n",
       "      <td>N</td>\n",
       "      <td>B</td>\n",
       "      <td>176.1</td>\n",
       "      <td>61.3</td>\n",
       "    </tr>\n",
       "    <tr>\n",
       "      <th>10</th>\n",
       "      <td>Joshua Connor</td>\n",
       "      <td>M</td>\n",
       "      <td>24</td>\n",
       "      <td>4</td>\n",
       "      <td>Y</td>\n",
       "      <td>O</td>\n",
       "      <td>167.1</td>\n",
       "      <td>62.0</td>\n",
       "    </tr>\n",
       "    <tr>\n",
       "      <th>11</th>\n",
       "      <td>John Matsuda</td>\n",
       "      <td>M</td>\n",
       "      <td>22</td>\n",
       "      <td>2</td>\n",
       "      <td>N</td>\n",
       "      <td>AB</td>\n",
       "      <td>180.0</td>\n",
       "      <td>75.8</td>\n",
       "    </tr>\n",
       "    <tr>\n",
       "      <th>12</th>\n",
       "      <td>Eddy Johnson</td>\n",
       "      <td>M</td>\n",
       "      <td>21</td>\n",
       "      <td>1</td>\n",
       "      <td>N</td>\n",
       "      <td>A</td>\n",
       "      <td>162.2</td>\n",
       "      <td>55.3</td>\n",
       "    </tr>\n",
       "    <tr>\n",
       "      <th>13</th>\n",
       "      <td>Rebecah Anderson</td>\n",
       "      <td>F</td>\n",
       "      <td>23</td>\n",
       "      <td>3</td>\n",
       "      <td>N</td>\n",
       "      <td>O</td>\n",
       "      <td>176.1</td>\n",
       "      <td>53.1</td>\n",
       "    </tr>\n",
       "    <tr>\n",
       "      <th>14</th>\n",
       "      <td>Linda Carter</td>\n",
       "      <td>F</td>\n",
       "      <td>22</td>\n",
       "      <td>2</td>\n",
       "      <td>N</td>\n",
       "      <td>B</td>\n",
       "      <td>158.2</td>\n",
       "      <td>45.2</td>\n",
       "    </tr>\n",
       "    <tr>\n",
       "      <th>15</th>\n",
       "      <td>Richard Swayze</td>\n",
       "      <td>M</td>\n",
       "      <td>24</td>\n",
       "      <td>4</td>\n",
       "      <td>Y</td>\n",
       "      <td>B</td>\n",
       "      <td>168.6</td>\n",
       "      <td>70.2</td>\n",
       "    </tr>\n",
       "    <tr>\n",
       "      <th>16</th>\n",
       "      <td>Andrew King</td>\n",
       "      <td>M</td>\n",
       "      <td>21</td>\n",
       "      <td>1</td>\n",
       "      <td>N</td>\n",
       "      <td>A</td>\n",
       "      <td>169.2</td>\n",
       "      <td>62.2</td>\n",
       "    </tr>\n",
       "  </tbody>\n",
       "</table>\n",
       "</div>"
      ],
      "text/plain": [
       "                Name Gender  Age  Grade Absence Bloodtype  Height  Weight\n",
       "0      Jared Diamond      M   23      3       Y         O   165.3    68.2\n",
       "1     Sarah O'Donnel      F   22      2       N        AB   170.1    53.0\n",
       "2       Brian Martin      M   24      4       N         B   175.0    80.1\n",
       "3       David Hassel      M   23      3       N        AB   182.1    85.7\n",
       "4    Clara Rodriquez      F   20      1       Y         A   168.0    49.5\n",
       "5   Jennifer Lorentz      F   21      2       N         O   162.0    52.0\n",
       "6        Susan Clark      F   22      1       N         O   155.2    45.3\n",
       "7    Margareth Jones      F   23      1       N         A   176.9    55.0\n",
       "8       John Bertsch      M   23      3       N         B   178.5    64.2\n",
       "9     Jake Timmerman      M   22      2       N         B   176.1    61.3\n",
       "10     Joshua Connor      M   24      4       Y         O   167.1    62.0\n",
       "11      John Matsuda      M   22      2       N        AB   180.0    75.8\n",
       "12      Eddy Johnson      M   21      1       N         A   162.2    55.3\n",
       "13  Rebecah Anderson      F   23      3       N         O   176.1    53.1\n",
       "14      Linda Carter      F   22      2       N         B   158.2    45.2\n",
       "15    Richard Swayze      M   24      4       Y         B   168.6    70.2\n",
       "16       Andrew King      M   21      1       N         A   169.2    62.2"
      ]
     },
     "execution_count": 131,
     "metadata": {},
     "output_type": "execute_result"
    }
   ],
   "source": [
    "import pandas as pd\n",
    "import os\n",
    "\n",
    "\n",
    "df = pd.read_csv('data_studentlist.csv', header='infer')\n",
    "df.head(100)\n"
   ]
  },
  {
   "cell_type": "markdown",
   "id": "61134190-a9dc-4b95-b942-975a18c94a7a",
   "metadata": {},
   "source": [
    "# Ejercicio 1"
   ]
  },
  {
   "cell_type": "code",
   "execution_count": 8,
   "id": "bf7a096f-e742-41d1-9bd0-ee0437bea318",
   "metadata": {},
   "outputs": [
    {
     "name": "stdout",
     "output_type": "stream",
     "text": [
      "172.41000000000003\n"
     ]
    }
   ],
   "source": [
    "#1\n",
    "average_heigth = df[df['Gender'] == 'M']['Height'].mean()\n",
    "print(average_heigth)"
   ]
  },
  {
   "cell_type": "code",
   "execution_count": 11,
   "id": "fbb03d0c-c77f-435d-a02f-35d1aad4150c",
   "metadata": {},
   "outputs": [
    {
     "name": "stdout",
     "output_type": "stream",
     "text": [
      "170.03529411764703\n"
     ]
    }
   ],
   "source": [
    "#2\n",
    "average_heigth = df['Height'].mean()\n",
    "print(average_age)"
   ]
  },
  {
   "cell_type": "code",
   "execution_count": 17,
   "id": "2c29b278-1f38-4898-acd9-34b2e6b26de0",
   "metadata": {},
   "outputs": [
    {
     "name": "stdout",
     "output_type": "stream",
     "text": [
      "68.50000000000001\n"
     ]
    }
   ],
   "source": [
    "#3\n",
    "average_weigth = df[df['Gender'] == 'M']['Weight'].mean()\n",
    "print(average_weigth)"
   ]
  },
  {
   "cell_type": "code",
   "execution_count": 19,
   "id": "d52e14b7-4699-456a-b7f2-789419dc2444",
   "metadata": {},
   "outputs": [
    {
     "name": "stdout",
     "output_type": "stream",
     "text": [
      "61.06470588235294\n"
     ]
    }
   ],
   "source": [
    "#4\n",
    "average_weigth = df['Weight'].mean()\n",
    "print(average_weigth)"
   ]
  },
  {
   "cell_type": "code",
   "execution_count": 21,
   "id": "951d4fd7-4391-47dc-b1b4-6b107bfb19c4",
   "metadata": {},
   "outputs": [
    {
     "name": "stdout",
     "output_type": "stream",
     "text": [
      "182.1\n"
     ]
    }
   ],
   "source": [
    "#5\n",
    "max_heigth = df[df['Gender'] == 'M']['Height'].max()\n",
    "print(max_heigth)"
   ]
  },
  {
   "cell_type": "code",
   "execution_count": 133,
   "id": "36770e05-bdbb-4a98-b9cb-2f8788087d2f",
   "metadata": {},
   "outputs": [
    {
     "name": "stdout",
     "output_type": "stream",
     "text": [
      "155.2\n"
     ]
    }
   ],
   "source": [
    "#6\n",
    "min_heigth = df['Height'].min()\n",
    "print(min_heigth)"
   ]
  },
  {
   "cell_type": "code",
   "execution_count": 135,
   "id": "6c48802b-148a-49a1-a45d-b466a844d69d",
   "metadata": {},
   "outputs": [
    {
     "name": "stdout",
     "output_type": "stream",
     "text": [
      "61.3\n"
     ]
    }
   ],
   "source": [
    "#7\n",
    "min_heigth = df[(df['Gender'] == 'M') & (df['Height'] > 175)]['Weight'].min()\n",
    "print(min_heigth)\n"
   ]
  },
  {
   "cell_type": "code",
   "execution_count": 137,
   "id": "b3f7f7ec-40d5-4d86-b98b-864cddef4af5",
   "metadata": {},
   "outputs": [
    {
     "name": "stdout",
     "output_type": "stream",
     "text": [
      "45.2\n"
     ]
    }
   ],
   "source": [
    "#8\n",
    "min_heigth = df[df['Height'] < 160]['Weight'].min()\n",
    "print(min_heigth)\n"
   ]
  },
  {
   "cell_type": "code",
   "execution_count": 139,
   "id": "86d2dcd7-2a07-47c6-87e5-f8b7ae128bbe",
   "metadata": {},
   "outputs": [
    {
     "name": "stdout",
     "output_type": "stream",
     "text": [
      "61.06470588235294\n"
     ]
    }
   ],
   "source": [
    "#9\n",
    "average_notes = df[df['Absence'] == 'N']['Grade'].mean()\n",
    "print(average_weigth)"
   ]
  },
  {
   "cell_type": "code",
   "execution_count": 141,
   "id": "15d4371b-6ac6-48fc-9d02-a207830bbb4e",
   "metadata": {},
   "outputs": [
    {
     "name": "stdout",
     "output_type": "stream",
     "text": [
      "61.06470588235294\n"
     ]
    }
   ],
   "source": [
    "#10\n",
    "average_notes = df[df['Absence'] == 'Y']['Grade'].mean()\n",
    "print(average_weigth)"
   ]
  },
  {
   "cell_type": "code",
   "execution_count": 75,
   "id": "8758217a-590f-41a6-8143-9f04c4004aac",
   "metadata": {},
   "outputs": [
    {
     "name": "stdout",
     "output_type": "stream",
     "text": [
      "172.64285714285714\n"
     ]
    }
   ],
   "source": [
    "#11\n",
    "average_heigth = df[(df['Bloodtype'] == 'A' ) | (df['Bloodtype'] == 'AB' )]['Height'].mean()\n",
    "print(average_heigth)"
   ]
  },
  {
   "cell_type": "code",
   "execution_count": 83,
   "id": "e05a5294-eb73-4aa8-93b4-8cebbfdb4337",
   "metadata": {},
   "outputs": [
    {
     "name": "stdout",
     "output_type": "stream",
     "text": [
      "173.375\n"
     ]
    }
   ],
   "source": [
    "#12\n",
    "average_heigth = df[(df['Gender'] == 'M') & ((df['Bloodtype'] == 'A' ) | (df['Bloodtype'] == 'AB' ))]['Height'].mean()\n",
    "print(average_heigth)"
   ]
  },
  {
   "cell_type": "code",
   "execution_count": 89,
   "id": "1d06b72b-836b-4ee2-85f7-4eebee47aa2c",
   "metadata": {},
   "outputs": [
    {
     "name": "stdout",
     "output_type": "stream",
     "text": [
      "23.666666666666668\n"
     ]
    }
   ],
   "source": [
    "average_age = df[(df[\"Absence\"] == 'Y' ) & (df['Grade'] >=3 ) ]['Age'].mean()\n",
    "print(average_age)"
   ]
  },
  {
   "cell_type": "markdown",
   "id": "05f02ee8-2017-4b03-9208-34f098a3d355",
   "metadata": {},
   "source": [
    "# Ejericicio 2"
   ]
  },
  {
   "cell_type": "code",
   "execution_count": 101,
   "id": "adfcb2e0-c152-4f0b-8e7a-12048880bc06",
   "metadata": {},
   "outputs": [
    {
     "name": "stdout",
     "output_type": "stream",
     "text": [
      "(281, 6)\n"
     ]
    },
    {
     "data": {
      "text/html": [
       "<div>\n",
       "<style scoped>\n",
       "    .dataframe tbody tr th:only-of-type {\n",
       "        vertical-align: middle;\n",
       "    }\n",
       "\n",
       "    .dataframe tbody tr th {\n",
       "        vertical-align: top;\n",
       "    }\n",
       "\n",
       "    .dataframe thead th {\n",
       "        text-align: right;\n",
       "    }\n",
       "</style>\n",
       "<table border=\"1\" class=\"dataframe\">\n",
       "  <thead>\n",
       "    <tr style=\"text-align: right;\">\n",
       "      <th></th>\n",
       "      <th>Province Code</th>\n",
       "      <th>City Code</th>\n",
       "      <th>Population</th>\n",
       "      <th>Households</th>\n",
       "      <th>Person's Household</th>\n",
       "      <th>Gender Ratio</th>\n",
       "    </tr>\n",
       "  </thead>\n",
       "  <tbody>\n",
       "    <tr>\n",
       "      <th>0</th>\n",
       "      <td>109</td>\n",
       "      <td>1001</td>\n",
       "      <td>10,078,850</td>\n",
       "      <td>4,197,478</td>\n",
       "      <td>2.40</td>\n",
       "      <td>0.97</td>\n",
       "    </tr>\n",
       "    <tr>\n",
       "      <th>1</th>\n",
       "      <td>109</td>\n",
       "      <td>1188</td>\n",
       "      <td>155,695</td>\n",
       "      <td>72,882</td>\n",
       "      <td>2.14</td>\n",
       "      <td>0.98</td>\n",
       "    </tr>\n",
       "    <tr>\n",
       "      <th>2</th>\n",
       "      <td>109</td>\n",
       "      <td>1189</td>\n",
       "      <td>126,817</td>\n",
       "      <td>59,614</td>\n",
       "      <td>2.13</td>\n",
       "      <td>1.00</td>\n",
       "    </tr>\n",
       "    <tr>\n",
       "      <th>3</th>\n",
       "      <td>109</td>\n",
       "      <td>1158</td>\n",
       "      <td>235,186</td>\n",
       "      <td>108,138</td>\n",
       "      <td>2.17</td>\n",
       "      <td>0.94</td>\n",
       "    </tr>\n",
       "    <tr>\n",
       "      <th>4</th>\n",
       "      <td>109</td>\n",
       "      <td>1105</td>\n",
       "      <td>298,145</td>\n",
       "      <td>126,915</td>\n",
       "      <td>2.35</td>\n",
       "      <td>0.99</td>\n",
       "    </tr>\n",
       "    <tr>\n",
       "      <th>5</th>\n",
       "      <td>109</td>\n",
       "      <td>1032</td>\n",
       "      <td>362,197</td>\n",
       "      <td>158,769</td>\n",
       "      <td>2.28</td>\n",
       "      <td>0.97</td>\n",
       "    </tr>\n",
       "    <tr>\n",
       "      <th>6</th>\n",
       "      <td>109</td>\n",
       "      <td>1065</td>\n",
       "      <td>362,604</td>\n",
       "      <td>160,110</td>\n",
       "      <td>2.26</td>\n",
       "      <td>1.01</td>\n",
       "    </tr>\n",
       "    <tr>\n",
       "      <th>7</th>\n",
       "      <td>109</td>\n",
       "      <td>1190</td>\n",
       "      <td>417,976</td>\n",
       "      <td>177,077</td>\n",
       "      <td>2.36</td>\n",
       "      <td>1.00</td>\n",
       "    </tr>\n",
       "    <tr>\n",
       "      <th>8</th>\n",
       "      <td>109</td>\n",
       "      <td>1106</td>\n",
       "      <td>464,176</td>\n",
       "      <td>192,670</td>\n",
       "      <td>2.41</td>\n",
       "      <td>0.96</td>\n",
       "    </tr>\n",
       "    <tr>\n",
       "      <th>9</th>\n",
       "      <td>109</td>\n",
       "      <td>1006</td>\n",
       "      <td>333,523</td>\n",
       "      <td>141,325</td>\n",
       "      <td>2.36</td>\n",
       "      <td>0.97</td>\n",
       "    </tr>\n",
       "  </tbody>\n",
       "</table>\n",
       "</div>"
      ],
      "text/plain": [
       "   Province Code  City Code    Population   Households  Person's Household  \\\n",
       "0            109       1001   10,078,850    4,197,478                 2.40   \n",
       "1            109       1188      155,695       72,882                 2.14   \n",
       "2            109       1189      126,817       59,614                 2.13   \n",
       "3            109       1158      235,186      108,138                 2.17   \n",
       "4            109       1105      298,145      126,915                 2.35   \n",
       "5            109       1032      362,197      158,769                 2.28   \n",
       "6            109       1065      362,604      160,110                 2.26   \n",
       "7            109       1190      417,976      177,077                 2.36   \n",
       "8            109       1106      464,176      192,670                 2.41   \n",
       "9            109       1006      333,523      141,325                 2.36   \n",
       "\n",
       "   Gender Ratio  \n",
       "0          0.97  \n",
       "1          0.98  \n",
       "2          1.00  \n",
       "3          0.94  \n",
       "4          0.99  \n",
       "5          0.97  \n",
       "6          1.01  \n",
       "7          1.00  \n",
       "8          0.96  \n",
       "9          0.97  "
      ]
     },
     "execution_count": 101,
     "metadata": {},
     "output_type": "execute_result"
    }
   ],
   "source": [
    "import pandas as pd\n",
    "import numpy as np\n",
    "import os\n",
    "\n",
    "\n",
    "df = pd.read_csv('data_census.csv', header='infer')\n",
    "print(df.shape)\n",
    "df.head(10)\n"
   ]
  },
  {
   "cell_type": "code",
   "execution_count": 109,
   "id": "f7921d41-f5c7-4699-af48-9921a4490c0f",
   "metadata": {},
   "outputs": [
    {
     "data": {
      "text/plain": [
       "5970327"
      ]
     },
     "execution_count": 109,
     "metadata": {},
     "output_type": "execute_result"
    }
   ],
   "source": [
    "#1\n",
    "df[(df['Province Code'] ==115) | (df['Province Code'] ==116)].Population.apply(lambda x: int(x.replace(',', ''))).sum()"
   ]
  },
  {
   "cell_type": "code",
   "execution_count": 115,
   "id": "a052ce70-c479-4890-a7da-978300f42268",
   "metadata": {},
   "outputs": [
    {
     "data": {
      "text/plain": [
       "419221.2076923077"
      ]
     },
     "execution_count": 115,
     "metadata": {},
     "output_type": "execute_result"
    }
   ],
   "source": [
    "#2\n",
    "df[df['Gender Ratio'] >1].Population.apply(lambda x: int(x.replace(',', ''))).mean()\n"
   ]
  },
  {
   "cell_type": "code",
   "execution_count": 119,
   "id": "237e8fcc-5c3e-4a58-a22f-ae154ce8e6fe",
   "metadata": {},
   "outputs": [
    {
     "data": {
      "text/html": [
       "<div>\n",
       "<style scoped>\n",
       "    .dataframe tbody tr th:only-of-type {\n",
       "        vertical-align: middle;\n",
       "    }\n",
       "\n",
       "    .dataframe tbody tr th {\n",
       "        vertical-align: top;\n",
       "    }\n",
       "\n",
       "    .dataframe thead th {\n",
       "        text-align: right;\n",
       "    }\n",
       "</style>\n",
       "<table border=\"1\" class=\"dataframe\">\n",
       "  <thead>\n",
       "    <tr style=\"text-align: right;\">\n",
       "      <th></th>\n",
       "      <th>Province Code</th>\n",
       "      <th>City Code</th>\n",
       "      <th>Population</th>\n",
       "      <th>Households</th>\n",
       "      <th>Person's Household</th>\n",
       "      <th>Gender Ratio</th>\n",
       "    </tr>\n",
       "  </thead>\n",
       "  <tbody>\n",
       "    <tr>\n",
       "      <th>62</th>\n",
       "      <td>112</td>\n",
       "      <td>1155</td>\n",
       "      <td>20,825</td>\n",
       "      <td>11,172</td>\n",
       "      <td>1.86</td>\n",
       "      <td>1.29</td>\n",
       "    </tr>\n",
       "    <tr>\n",
       "      <th>149</th>\n",
       "      <td>101</td>\n",
       "      <td>1240</td>\n",
       "      <td>26,790</td>\n",
       "      <td>13,433</td>\n",
       "      <td>1.99</td>\n",
       "      <td>1.27</td>\n",
       "    </tr>\n",
       "    <tr>\n",
       "      <th>152</th>\n",
       "      <td>101</td>\n",
       "      <td>1017</td>\n",
       "      <td>30,066</td>\n",
       "      <td>15,485</td>\n",
       "      <td>1.94</td>\n",
       "      <td>1.15</td>\n",
       "    </tr>\n",
       "    <tr>\n",
       "      <th>167</th>\n",
       "      <td>117</td>\n",
       "      <td>1033</td>\n",
       "      <td>38,027</td>\n",
       "      <td>19,145</td>\n",
       "      <td>1.99</td>\n",
       "      <td>1.03</td>\n",
       "    </tr>\n",
       "    <tr>\n",
       "      <th>227</th>\n",
       "      <td>113</td>\n",
       "      <td>1120</td>\n",
       "      <td>43,566</td>\n",
       "      <td>22,248</td>\n",
       "      <td>1.96</td>\n",
       "      <td>1.11</td>\n",
       "    </tr>\n",
       "    <tr>\n",
       "      <th>253</th>\n",
       "      <td>104</td>\n",
       "      <td>1163</td>\n",
       "      <td>10,304</td>\n",
       "      <td>5,365</td>\n",
       "      <td>1.92</td>\n",
       "      <td>1.15</td>\n",
       "    </tr>\n",
       "  </tbody>\n",
       "</table>\n",
       "</div>"
      ],
      "text/plain": [
       "     Province Code  City Code Population Households  Person's Household  \\\n",
       "62             112       1155    20,825     11,172                 1.86   \n",
       "149            101       1240    26,790     13,433                 1.99   \n",
       "152            101       1017    30,066     15,485                 1.94   \n",
       "167            117       1033    38,027     19,145                 1.99   \n",
       "227            113       1120    43,566     22,248                 1.96   \n",
       "253            104       1163    10,304      5,365                 1.92   \n",
       "\n",
       "     Gender Ratio  \n",
       "62           1.29  \n",
       "149          1.27  \n",
       "152          1.15  \n",
       "167          1.03  \n",
       "227          1.11  \n",
       "253          1.15  "
      ]
     },
     "execution_count": 119,
     "metadata": {},
     "output_type": "execute_result"
    }
   ],
   "source": [
    "#3\n",
    "df[((df['Gender Ratio'] >1)) & (df['Person\\'s Household'] <2)]\n"
   ]
  },
  {
   "cell_type": "code",
   "execution_count": 121,
   "id": "80e50ab6-8c1a-4084-93c2-b45c1ace1b79",
   "metadata": {},
   "outputs": [
    {
     "data": {
      "text/html": [
       "<div>\n",
       "<style scoped>\n",
       "    .dataframe tbody tr th:only-of-type {\n",
       "        vertical-align: middle;\n",
       "    }\n",
       "\n",
       "    .dataframe tbody tr th {\n",
       "        vertical-align: top;\n",
       "    }\n",
       "\n",
       "    .dataframe thead th {\n",
       "        text-align: right;\n",
       "    }\n",
       "</style>\n",
       "<table border=\"1\" class=\"dataframe\">\n",
       "  <thead>\n",
       "    <tr style=\"text-align: right;\">\n",
       "      <th></th>\n",
       "      <th>Province Code</th>\n",
       "      <th>City Code</th>\n",
       "      <th>Population</th>\n",
       "      <th>Households</th>\n",
       "      <th>Person's Household</th>\n",
       "      <th>Gender Ratio</th>\n",
       "    </tr>\n",
       "  </thead>\n",
       "  <tbody>\n",
       "    <tr>\n",
       "      <th>52</th>\n",
       "      <td>112</td>\n",
       "      <td>1001</td>\n",
       "      <td>2,914,271</td>\n",
       "      <td>1,145,232</td>\n",
       "      <td>2.54</td>\n",
       "      <td>1.01</td>\n",
       "    </tr>\n",
       "    <tr>\n",
       "      <th>228</th>\n",
       "      <td>104</td>\n",
       "      <td>1001</td>\n",
       "      <td>2,697,791</td>\n",
       "      <td>1,160,150</td>\n",
       "      <td>2.33</td>\n",
       "      <td>1.01</td>\n",
       "    </tr>\n",
       "    <tr>\n",
       "      <th>254</th>\n",
       "      <td>103</td>\n",
       "      <td>1001</td>\n",
       "      <td>3,356,540</td>\n",
       "      <td>1,356,430</td>\n",
       "      <td>2.47</td>\n",
       "      <td>1.02</td>\n",
       "    </tr>\n",
       "    <tr>\n",
       "      <th>26</th>\n",
       "      <td>108</td>\n",
       "      <td>1001</td>\n",
       "      <td>3,517,491</td>\n",
       "      <td>1,430,441</td>\n",
       "      <td>2.46</td>\n",
       "      <td>0.98</td>\n",
       "    </tr>\n",
       "    <tr>\n",
       "      <th>200</th>\n",
       "      <td>114</td>\n",
       "      <td>1179</td>\n",
       "      <td>23,308</td>\n",
       "      <td>10,877</td>\n",
       "      <td>2.14</td>\n",
       "      <td>0.98</td>\n",
       "    </tr>\n",
       "    <tr>\n",
       "      <th>266</th>\n",
       "      <td>103</td>\n",
       "      <td>1010</td>\n",
       "      <td>252,823</td>\n",
       "      <td>100,073</td>\n",
       "      <td>2.53</td>\n",
       "      <td>1.12</td>\n",
       "    </tr>\n",
       "    <tr>\n",
       "      <th>256</th>\n",
       "      <td>103</td>\n",
       "      <td>1201</td>\n",
       "      <td>258,719</td>\n",
       "      <td>100,745</td>\n",
       "      <td>2.57</td>\n",
       "      <td>1.04</td>\n",
       "    </tr>\n",
       "    <tr>\n",
       "      <th>37</th>\n",
       "      <td>108</td>\n",
       "      <td>1042</td>\n",
       "      <td>248,177</td>\n",
       "      <td>101,090</td>\n",
       "      <td>2.46</td>\n",
       "      <td>0.97</td>\n",
       "    </tr>\n",
       "    <tr>\n",
       "      <th>70</th>\n",
       "      <td>107</td>\n",
       "      <td>1064</td>\n",
       "      <td>242,758</td>\n",
       "      <td>101,201</td>\n",
       "      <td>2.40</td>\n",
       "      <td>1.02</td>\n",
       "    </tr>\n",
       "    <tr>\n",
       "      <th>230</th>\n",
       "      <td>104</td>\n",
       "      <td>1226</td>\n",
       "      <td>246,634</td>\n",
       "      <td>101,508</td>\n",
       "      <td>2.43</td>\n",
       "      <td>1.06</td>\n",
       "    </tr>\n",
       "  </tbody>\n",
       "</table>\n",
       "</div>"
      ],
      "text/plain": [
       "     Province Code  City Code   Population   Households  Person's Household  \\\n",
       "52             112       1001   2,914,271    1,145,232                 2.54   \n",
       "228            104       1001   2,697,791    1,160,150                 2.33   \n",
       "254            103       1001   3,356,540    1,356,430                 2.47   \n",
       "26             108       1001   3,517,491    1,430,441                 2.46   \n",
       "200            114       1179      23,308       10,877                 2.14   \n",
       "266            103       1010     252,823      100,073                 2.53   \n",
       "256            103       1201     258,719      100,745                 2.57   \n",
       "37             108       1042     248,177      101,090                 2.46   \n",
       "70             107       1064     242,758      101,201                 2.40   \n",
       "230            104       1226     246,634      101,508                 2.43   \n",
       "\n",
       "     Gender Ratio  \n",
       "52           1.01  \n",
       "228          1.01  \n",
       "254          1.02  \n",
       "26           0.98  \n",
       "200          0.98  \n",
       "266          1.12  \n",
       "256          1.04  \n",
       "37           0.97  \n",
       "70           1.02  \n",
       "230          1.06  "
      ]
     },
     "execution_count": 121,
     "metadata": {},
     "output_type": "execute_result"
    }
   ],
   "source": [
    "#4\n",
    "df.sort_values(by = 'Households',ascending = True).head(10)"
   ]
  },
  {
   "cell_type": "markdown",
   "id": "19e8186a-5926-410d-934a-2ce9987ac8d3",
   "metadata": {},
   "source": [
    "# Ejercicio 3"
   ]
  },
  {
   "cell_type": "code",
   "execution_count": 3,
   "id": "6ccab38e-f3e1-483b-9f86-2656189573cd",
   "metadata": {},
   "outputs": [
    {
     "name": "stdout",
     "output_type": "stream",
     "text": [
      "(43, 5)\n"
     ]
    },
    {
     "data": {
      "text/html": [
       "<div>\n",
       "<style scoped>\n",
       "    .dataframe tbody tr th:only-of-type {\n",
       "        vertical-align: middle;\n",
       "    }\n",
       "\n",
       "    .dataframe tbody tr th {\n",
       "        vertical-align: top;\n",
       "    }\n",
       "\n",
       "    .dataframe thead th {\n",
       "        text-align: right;\n",
       "    }\n",
       "</style>\n",
       "<table border=\"1\" class=\"dataframe\">\n",
       "  <thead>\n",
       "    <tr style=\"text-align: right;\">\n",
       "      <th></th>\n",
       "      <th>Date</th>\n",
       "      <th>Region</th>\n",
       "      <th>Item</th>\n",
       "      <th>Unit Price</th>\n",
       "      <th>Units</th>\n",
       "    </tr>\n",
       "  </thead>\n",
       "  <tbody>\n",
       "    <tr>\n",
       "      <th>0</th>\n",
       "      <td>04-Jul-14</td>\n",
       "      <td>East</td>\n",
       "      <td>Pen Set</td>\n",
       "      <td>4.99</td>\n",
       "      <td>62</td>\n",
       "    </tr>\n",
       "    <tr>\n",
       "      <th>1</th>\n",
       "      <td>12-Jul-14</td>\n",
       "      <td>East</td>\n",
       "      <td>Binder</td>\n",
       "      <td>1.99</td>\n",
       "      <td>29</td>\n",
       "    </tr>\n",
       "    <tr>\n",
       "      <th>2</th>\n",
       "      <td>21-Jul-14</td>\n",
       "      <td>Central</td>\n",
       "      <td>Pen Set</td>\n",
       "      <td>12.49</td>\n",
       "      <td>55</td>\n",
       "    </tr>\n",
       "    <tr>\n",
       "      <th>3</th>\n",
       "      <td>29-Jul-14</td>\n",
       "      <td>East</td>\n",
       "      <td>Binder</td>\n",
       "      <td>19.99</td>\n",
       "      <td>81</td>\n",
       "    </tr>\n",
       "    <tr>\n",
       "      <th>4</th>\n",
       "      <td>07-Aug-14</td>\n",
       "      <td>Central</td>\n",
       "      <td>Pen Set</td>\n",
       "      <td>23.95</td>\n",
       "      <td>42</td>\n",
       "    </tr>\n",
       "  </tbody>\n",
       "</table>\n",
       "</div>"
      ],
      "text/plain": [
       "        Date   Region     Item  Unit Price  Units\n",
       "0  04-Jul-14     East  Pen Set        4.99     62\n",
       "1  12-Jul-14     East   Binder        1.99     29\n",
       "2  21-Jul-14  Central  Pen Set       12.49     55\n",
       "3  29-Jul-14     East   Binder       19.99     81\n",
       "4  07-Aug-14  Central  Pen Set       23.95     42"
      ]
     },
     "execution_count": 3,
     "metadata": {},
     "output_type": "execute_result"
    }
   ],
   "source": [
    "import pandas as pd\n",
    "import numpy as np\n",
    "import os\n",
    "\n",
    "\n",
    "df = pd.read_csv('data_sales.csv', header='infer')\n",
    "print(df.shape)\n",
    "df.head(5)\n"
   ]
  },
  {
   "cell_type": "code",
   "execution_count": 5,
   "id": "fbceb365-5891-40eb-b319-671d01681d79",
   "metadata": {},
   "outputs": [
    {
     "data": {
      "text/html": [
       "<div>\n",
       "<style scoped>\n",
       "    .dataframe tbody tr th:only-of-type {\n",
       "        vertical-align: middle;\n",
       "    }\n",
       "\n",
       "    .dataframe tbody tr th {\n",
       "        vertical-align: top;\n",
       "    }\n",
       "\n",
       "    .dataframe thead th {\n",
       "        text-align: right;\n",
       "    }\n",
       "</style>\n",
       "<table border=\"1\" class=\"dataframe\">\n",
       "  <thead>\n",
       "    <tr style=\"text-align: right;\">\n",
       "      <th></th>\n",
       "      <th>Date</th>\n",
       "      <th>Region</th>\n",
       "      <th>Item</th>\n",
       "      <th>Unit Price</th>\n",
       "      <th>Units</th>\n",
       "      <th>Amount</th>\n",
       "    </tr>\n",
       "  </thead>\n",
       "  <tbody>\n",
       "    <tr>\n",
       "      <th>0</th>\n",
       "      <td>04-Jul-14</td>\n",
       "      <td>East</td>\n",
       "      <td>Pen Set</td>\n",
       "      <td>4.99</td>\n",
       "      <td>62</td>\n",
       "      <td>309.38</td>\n",
       "    </tr>\n",
       "    <tr>\n",
       "      <th>1</th>\n",
       "      <td>12-Jul-14</td>\n",
       "      <td>East</td>\n",
       "      <td>Binder</td>\n",
       "      <td>1.99</td>\n",
       "      <td>29</td>\n",
       "      <td>57.71</td>\n",
       "    </tr>\n",
       "    <tr>\n",
       "      <th>2</th>\n",
       "      <td>21-Jul-14</td>\n",
       "      <td>Central</td>\n",
       "      <td>Pen Set</td>\n",
       "      <td>12.49</td>\n",
       "      <td>55</td>\n",
       "      <td>686.95</td>\n",
       "    </tr>\n",
       "    <tr>\n",
       "      <th>3</th>\n",
       "      <td>29-Jul-14</td>\n",
       "      <td>East</td>\n",
       "      <td>Binder</td>\n",
       "      <td>19.99</td>\n",
       "      <td>81</td>\n",
       "      <td>1619.19</td>\n",
       "    </tr>\n",
       "    <tr>\n",
       "      <th>4</th>\n",
       "      <td>07-Aug-14</td>\n",
       "      <td>Central</td>\n",
       "      <td>Pen Set</td>\n",
       "      <td>23.95</td>\n",
       "      <td>42</td>\n",
       "      <td>1005.90</td>\n",
       "    </tr>\n",
       "  </tbody>\n",
       "</table>\n",
       "</div>"
      ],
      "text/plain": [
       "        Date   Region     Item  Unit Price  Units   Amount\n",
       "0  04-Jul-14     East  Pen Set        4.99     62   309.38\n",
       "1  12-Jul-14     East   Binder        1.99     29    57.71\n",
       "2  21-Jul-14  Central  Pen Set       12.49     55   686.95\n",
       "3  29-Jul-14     East   Binder       19.99     81  1619.19\n",
       "4  07-Aug-14  Central  Pen Set       23.95     42  1005.90"
      ]
     },
     "execution_count": 5,
     "metadata": {},
     "output_type": "execute_result"
    }
   ],
   "source": [
    "#1\n",
    "df['Amount'] = df['Unit Price'] * df['Units']\n",
    "df.head(5)"
   ]
  },
  {
   "cell_type": "code",
   "execution_count": 7,
   "id": "95b521a9-af86-434e-9684-e66d182968e2",
   "metadata": {},
   "outputs": [
    {
     "name": "stdout",
     "output_type": "stream",
     "text": [
      "         Unit Price\n",
      "Region             \n",
      "Central   18.018750\n",
      "East       9.143846\n",
      "West      53.658333\n"
     ]
    }
   ],
   "source": [
    "#2\n",
    "average_unit_price = df.groupby('Region')['Unit Price'].mean()\n",
    "print(average_unit_price)"
   ]
  },
  {
   "cell_type": "code",
   "execution_count": 9,
   "id": "56c4f8f7-ae74-423a-b341-efb762627265",
   "metadata": {},
   "outputs": [
    {
     "data": {
      "text/html": [
       "<div>\n",
       "<style scoped>\n",
       "    .dataframe tbody tr th:only-of-type {\n",
       "        vertical-align: middle;\n",
       "    }\n",
       "\n",
       "    .dataframe tbody tr th {\n",
       "        vertical-align: top;\n",
       "    }\n",
       "\n",
       "    .dataframe thead th {\n",
       "        text-align: right;\n",
       "    }\n",
       "</style>\n",
       "<table border=\"1\" class=\"dataframe\">\n",
       "  <thead>\n",
       "    <tr style=\"text-align: right;\">\n",
       "      <th></th>\n",
       "      <th>Unit Price</th>\n",
       "    </tr>\n",
       "    <tr>\n",
       "      <th>Region</th>\n",
       "      <th></th>\n",
       "    </tr>\n",
       "  </thead>\n",
       "  <tbody>\n",
       "    <tr>\n",
       "      <th>Central</th>\n",
       "      <td>18.018750</td>\n",
       "    </tr>\n",
       "    <tr>\n",
       "      <th>East</th>\n",
       "      <td>9.143846</td>\n",
       "    </tr>\n",
       "    <tr>\n",
       "      <th>West</th>\n",
       "      <td>53.658333</td>\n",
       "    </tr>\n",
       "  </tbody>\n",
       "</table>\n",
       "</div>"
      ],
      "text/plain": [
       "         Unit Price\n",
       "Region             \n",
       "Central   18.018750\n",
       "East       9.143846\n",
       "West      53.658333"
      ]
     },
     "execution_count": 9,
     "metadata": {},
     "output_type": "execute_result"
    }
   ],
   "source": [
    "#3\n",
    "df.pivot_table(values='Unit Price', index='Region', aggfunc='mean')"
   ]
  },
  {
   "cell_type": "code",
   "execution_count": 11,
   "id": "959d980b-8746-42f4-94cf-b4a6e8b0a3a5",
   "metadata": {},
   "outputs": [],
   "source": [
    "#4\n",
    "df.groupby('Region')['Unit Price'].mean()"
   ]
  },
  {
   "cell_type": "markdown",
   "id": "e205f6af-d6ce-45fe-99d9-8c36f7a6634b",
   "metadata": {},
   "source": [
    "# Ejercicio 4"
   ]
  },
  {
   "cell_type": "code",
   "execution_count": 64,
   "id": "1651cb6c-cc73-4e71-9f73-3637792c9c19",
   "metadata": {},
   "outputs": [
    {
     "name": "stdout",
     "output_type": "stream",
     "text": [
      "(43182, 3)\n"
     ]
    },
    {
     "data": {
      "text/html": [
       "<div>\n",
       "<style scoped>\n",
       "    .dataframe tbody tr th:only-of-type {\n",
       "        vertical-align: middle;\n",
       "    }\n",
       "\n",
       "    .dataframe tbody tr th {\n",
       "        vertical-align: top;\n",
       "    }\n",
       "\n",
       "    .dataframe thead th {\n",
       "        text-align: right;\n",
       "    }\n",
       "</style>\n",
       "<table border=\"1\" class=\"dataframe\">\n",
       "  <thead>\n",
       "    <tr style=\"text-align: right;\">\n",
       "      <th></th>\n",
       "      <th>Year of Start</th>\n",
       "      <th>Current State</th>\n",
       "      <th>Size of Site</th>\n",
       "    </tr>\n",
       "  </thead>\n",
       "  <tbody>\n",
       "    <tr>\n",
       "      <th>0</th>\n",
       "      <td>2008.0</td>\n",
       "      <td>In</td>\n",
       "      <td>20.80</td>\n",
       "    </tr>\n",
       "    <tr>\n",
       "      <th>1</th>\n",
       "      <td>2010.0</td>\n",
       "      <td>In</td>\n",
       "      <td>212.72</td>\n",
       "    </tr>\n",
       "    <tr>\n",
       "      <th>2</th>\n",
       "      <td>2013.0</td>\n",
       "      <td>In</td>\n",
       "      <td>20.04</td>\n",
       "    </tr>\n",
       "    <tr>\n",
       "      <th>3</th>\n",
       "      <td>2012.0</td>\n",
       "      <td>In</td>\n",
       "      <td>64.17</td>\n",
       "    </tr>\n",
       "    <tr>\n",
       "      <th>4</th>\n",
       "      <td>2002.0</td>\n",
       "      <td>Out</td>\n",
       "      <td>11.40</td>\n",
       "    </tr>\n",
       "    <tr>\n",
       "      <th>...</th>\n",
       "      <td>...</td>\n",
       "      <td>...</td>\n",
       "      <td>...</td>\n",
       "    </tr>\n",
       "    <tr>\n",
       "      <th>195</th>\n",
       "      <td>2003.0</td>\n",
       "      <td>In</td>\n",
       "      <td>38.48</td>\n",
       "    </tr>\n",
       "    <tr>\n",
       "      <th>196</th>\n",
       "      <td>2013.0</td>\n",
       "      <td>Out</td>\n",
       "      <td>46.00</td>\n",
       "    </tr>\n",
       "    <tr>\n",
       "      <th>197</th>\n",
       "      <td>2013.0</td>\n",
       "      <td>Out</td>\n",
       "      <td>34.75</td>\n",
       "    </tr>\n",
       "    <tr>\n",
       "      <th>198</th>\n",
       "      <td>2003.0</td>\n",
       "      <td>In</td>\n",
       "      <td>68.38</td>\n",
       "    </tr>\n",
       "    <tr>\n",
       "      <th>199</th>\n",
       "      <td>2009.0</td>\n",
       "      <td>Out</td>\n",
       "      <td>149.00</td>\n",
       "    </tr>\n",
       "  </tbody>\n",
       "</table>\n",
       "<p>200 rows × 3 columns</p>\n",
       "</div>"
      ],
      "text/plain": [
       "     Year of Start Current State  Size of Site\n",
       "0           2008.0            In         20.80\n",
       "1           2010.0            In        212.72\n",
       "2           2013.0            In         20.04\n",
       "3           2012.0            In         64.17\n",
       "4           2002.0           Out         11.40\n",
       "..             ...           ...           ...\n",
       "195         2003.0            In         38.48\n",
       "196         2013.0           Out         46.00\n",
       "197         2013.0           Out         34.75\n",
       "198         2003.0            In         68.38\n",
       "199         2009.0           Out        149.00\n",
       "\n",
       "[200 rows x 3 columns]"
      ]
     },
     "execution_count": 64,
     "metadata": {},
     "output_type": "execute_result"
    }
   ],
   "source": [
    "import pandas as pd\n",
    "import numpy as np\n",
    "import os\n",
    "import matplotlib.pyplot as plt\n",
    "%matplotlib inline\n",
    "\n",
    "\n",
    "df = pd.read_csv('data_coffeeshop.csv', header='infer', na_values=[' '])\n",
    "print(df.shape)\n",
    "df.head(200)\n"
   ]
  },
  {
   "cell_type": "code",
   "execution_count": 58,
   "id": "752dd104-20d2-4954-a814-2ac423d5be5c",
   "metadata": {},
   "outputs": [
    {
     "data": {
      "image/png": "[encoded data removed]",
      "text/plain": [
       "<Figure size 640x480 with 1 Axes>"
      ]
     },
     "metadata": {},
     "output_type": "display_data"
    },
    {
     "data": {
      "image/png": "[encoded data removed]",
      "text/plain": [
       "<Figure size 640x480 with 1 Axes>"
      ]
     },
     "metadata": {},
     "output_type": "display_data"
    }
   ],
   "source": [
    "frecuencia = df['Year of Start'].value_counts().sort_index()\n",
    "info_linea = frecuencia[(frecuencia.index >= 1997) & (frecuencia.index <= 2014)]\n",
    "\n",
    "\n",
    "#Grafica de barras\n",
    "plt.bar(frecuencia.index, frecuencia.values, edgecolor='black')\n",
    "plt.xlabel('Anio de inicio')\n",
    "plt.ylabel('Frecuencia')\n",
    "plt.xlim(1970,2014)  \n",
    "plt.title('Frecuencia del anio de inicio')\n",
    "plt.show()\n",
    "\n",
    "#Linea\n",
    "plt.plot(info_linea.index, info_linea.values, marker='o', color='blue')\n",
    "plt.xlim(1997, 2014)  \n",
    "plt.xlabel('Anio')\n",
    "plt.ylabel('Valor')\n",
    "plt.title('Linea de 1997 a 2014')\n",
    "plt.grid(True)  \n",
    "plt.show()\n"
   ]
  },
  {
   "cell_type": "code",
   "execution_count": 62,
   "id": "2b05c3b0-8c31-4a74-9e55-386d6bcdaafe",
   "metadata": {},
   "outputs": [
    {
     "data": {
      "image/png": "[encoded data removed]",
      "text/plain": [
       "<Figure size 1000x600 with 1 Axes>"
      ]
     },
     "metadata": {},
     "output_type": "display_data"
    }
   ],
   "source": [
    "#2\n",
    "df_in = df[df['Current State'] == 'In']\n",
    "df_out = df[df['Current State'] == 'Out']\n",
    "\n",
    "\n",
    "frecuencia_in = df_in['Year of Start'].value_counts().sort_index()\n",
    "frecuencia_out = df_out['Year of Start'].value_counts().sort_index()\n",
    "\n",
    "\n",
    "frecuencia_in = frecuencia_in[(frecuencia_in.index >= 1997) & (frecuencia_in.index <= 2014)]\n",
    "frecuencia_out = frecuencia_out[(frecuencia_out.index >= 1997) & (frecuencia_out.index <= 2014)]\n",
    "\n",
    "fig, ax = plt.subplots(figsize=(10, 6))\n",
    "\n",
    "ax.plot(frecuencia_in.index, frecuencia_in.values, marker='o', label='In', color='blue')\n",
    "\n",
    "ax.plot(frecuencia_out.index, frecuencia_out.values, marker='o', label='Out', color='orange')\n",
    "\n",
    "ax.set_xlim(1997, 2014)\n",
    "ax.set_xlabel('Anio de inicio')\n",
    "ax.set_ylabel('Frecuencia')\n",
    "ax.set_title('Tendencias por estado (1997-2014)')\n",
    "ax.legend(title='Estados') \n",
    "ax.grid(True)\n",
    "\n",
    "plt.show()"
   ]
  },
  {
   "cell_type": "code",
   "execution_count": null,
   "id": "48fb0f1c-3d21-4773-8df6-f0a2ac0b1049",
   "metadata": {},
   "outputs": [],
   "source": []
  }
 ],
 "metadata": {
  "kernelspec": {
   "display_name": "Python 3 (ipykernel)",
   "language": "python",
   "name": "python3"
  },
  "language_info": {
   "codemirror_mode": {
    "name": "ipython",
    "version": 3
   },
   "file_extension": ".py",
   "mimetype": "text/x-python",
   "name": "python",
   "nbconvert_exporter": "python",
   "pygments_lexer": "ipython3",
   "version": "3.12.4"
  }
 },
 "nbformat": 4,
 "nbformat_minor": 5
}
